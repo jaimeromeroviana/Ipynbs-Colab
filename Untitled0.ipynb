{
  "nbformat": 4,
  "nbformat_minor": 0,
  "metadata": {
    "colab": {
      "name": "Untitled0.ipynb",
      "provenance": [],
      "include_colab_link": true
    },
    "kernelspec": {
      "name": "python3",
      "display_name": "Python 3"
    }
  },
  "cells": [
    {
      "cell_type": "markdown",
      "metadata": {
        "id": "view-in-github",
        "colab_type": "text"
      },
      "source": [
        "<a href=\"https://colab.research.google.com/github/jaimeromeroviana/Ipynbs-Colab/blob/main/Untitled0.ipynb\" target=\"_parent\"><img src=\"https://colab.research.google.com/assets/colab-badge.svg\" alt=\"Open In Colab\"/></a>"
      ]
    },
    {
      "cell_type": "code",
      "metadata": {
        "id": "B-gCH5fC620L"
      },
      "source": [
        "import numpy as np\n",
        "import scipy as sc\n",
        "import matplotlib.pyplot as plt\n",
        "\n",
        "from sklearn.datasets import make_circles"
      ],
      "execution_count": null,
      "outputs": []
    },
    {
      "cell_type": "code",
      "metadata": {
        "id": "PVYKLXQb7yiy",
        "colab": {
          "base_uri": "https://localhost:8080/",
          "height": 269
        },
        "outputId": "5295110c-c911-4f51-f6d4-159727100e04"
      },
      "source": [
        "# Crear el dataset\n",
        "\n",
        "n = 500\n",
        "p = 2\n",
        "\n",
        "X, Y = make_circles(n_samples=n, factor = 0.5, noise=0.05)\n",
        "\n",
        "plt.scatter(X[Y == 0, 0], X[Y == 0, 1], c = \"skyblue\")\n",
        "plt.scatter(X[Y == 1, 0], X[Y == 1, 1], c = \"salmon\")\n",
        "\n",
        "plt.show()"
      ],
      "execution_count": null,
      "outputs": [
        {
          "output_type": "display_data",
          "data": {
            "image/png": "[encoded data removed]",
            "text/plain": [
              "<Figure size 432x288 with 1 Axes>"
            ]
          },
          "metadata": {
            "tags": []
          }
        }
      ]
    },
    {
      "cell_type": "code",
      "metadata": {
        "id": "L77KSb2L9eCJ"
      },
      "source": [
        "#estructura de datos de la red neuronal\n",
        "#clase de la capa de la red\n",
        "\n",
        "class neural_layer(): \n",
        "  \n",
        "   def __init__(self, n_conn, n_neur, act_f):\n",
        "      \n",
        "      self.act_f = act_f\n",
        "      \n",
        "      self.b = np.random.rand(1, n_neur) * 2 - 1\n",
        "      self.w = np.random.rand(n_conn, n_neur) * 2 - 1\n",
        "      "
      ],
      "execution_count": null,
      "outputs": []
    },
    {
      "cell_type": "code",
      "metadata": {
        "id": "Zzhs-BVJ-mZH",
        "colab": {
          "base_uri": "https://localhost:8080/",
          "height": 286
        },
        "outputId": "050cb620-de11-49b8-b66e-cc2a8c6545fe"
      },
      "source": [
        "#funcion de activación\n",
        "\n",
        "sigm = (lambda x: 1 / (1+ np.e ** (-x)), \n",
        "        lambda x: x * (1 - x))\n",
        "\n",
        "relu = lambda x: np.maximum(0,x)\n",
        "\n",
        "_x = np.linspace(-5, 5, 100)\n",
        "\n",
        "plt.plot(_x, relu(_x))"
      ],
      "execution_count": null,
      "outputs": [
        {
          "output_type": "execute_result",
          "data": {
            "text/plain": [
              "[<matplotlib.lines.Line2D at 0x7fc53d68f0b8>]"
            ]
          },
          "metadata": {
            "tags": []
          },
          "execution_count": 18
        },
        {
          "output_type": "display_data",
          "data": {
            "image/png": "[encoded data removed]",
            "text/plain": [
              "<Figure size 432x288 with 1 Axes>"
            ]
          },
          "metadata": {
            "tags": []
          }
        }
      ]
    },
    {
      "cell_type": "code",
      "metadata": {
        "id": "zQ5tqKzXATdR",
        "colab": {
          "base_uri": "https://localhost:8080/",
          "height": 34
        },
        "outputId": "69787491-b663-4474-f85e-6787286c5771"
      },
      "source": [
        " \n",
        "def create_nn(topology, act_f):\n",
        "  \n",
        "  nn  = []\n",
        "  \n",
        "  for l, layer in enumerate(topology[:-1]):\n",
        "    \n",
        "    nn.append(neural_layer(topology[l], topology[l+1], act_f))\n",
        "    \n",
        "    return nn\n",
        "\n",
        "  \n",
        "topology = [p, 4, 8, 16, 8, 4, 1]\n",
        "\n",
        "\n",
        "create_nn(topology, sigm)"
      ],
      "execution_count": null,
      "outputs": [
        {
          "output_type": "execute_result",
          "data": {
            "text/plain": [
              "[<__main__.neural_layer at 0x7fc53d653dd8>]"
            ]
          },
          "metadata": {
            "tags": []
          },
          "execution_count": 21
        }
      ]
    },
    {
      "cell_type": "code",
      "metadata": {
        "id": "0yUf3ykPCS8W"
      },
      "source": [
        "\n",
        "def train():\n",
        "  \n",
        "  "
      ],
      "execution_count": null,
      "outputs": []
    }
  ]
}
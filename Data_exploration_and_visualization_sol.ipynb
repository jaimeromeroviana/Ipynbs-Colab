{
  "cells": [
    {
      "cell_type": "markdown",
      "metadata": {
        "id": "view-in-github",
        "colab_type": "text"
      },
      "source": [
        "<a href=\"https://colab.research.google.com/github/jaimeromeroviana/Ipynbs-Colab/blob/main/Data_exploration_and_visualization_sol.ipynb\" target=\"_parent\"><img src=\"https://colab.research.google.com/assets/colab-badge.svg\" alt=\"Open In Colab\"/></a>"
      ]
    },
    {
      "cell_type": "markdown",
      "metadata": {
        "id": "SXShwLnkMLdP"
      },
      "source": [
        "In this workshop we are goin to work with the dataset of the UPM researchers and their publications. This dataset is composed by two files. These files are an extended versión of the csv that we used in the web application workshops.\n",
        "\n",
        "Our goal is obtain as much information as we can from this dataset. We will achieve this in two ways: we will answer questions with numeric values (e.g. what is the average number publications of an UPM reaearcher? or, how many citations have the reseachers, suming all their publications?) or we will generate some charts to present information in a visual way (e.g. how is the relation between the publication year of a paper and its number of citations? or, how is the histogram of the number of publications by researcher?)"
      ]
    },
    {
      "cell_type": "code",
      "execution_count": null,
      "metadata": {
        "id": "sEjgjZXSMLdc"
      },
      "outputs": [],
      "source": [
        "import pandas as pd\n",
        "import matplotlib.pyplot as plt\n",
        "import seaborn as sns\n",
        "publications = pd.read_json(\"data/publications.json\")\n",
        "publications.date = pd.to_datetime(publications.date*1e6)\n",
        "researchers = pd.read_json(\"data/researchers.json\")"
      ]
    },
    {
      "cell_type": "markdown",
      "metadata": {
        "id": "AiU4Fe8uMLde"
      },
      "source": [
        "# Dataset exploration\n",
        "Any project related with data analysis starts with a study of the data itself: \n",
        "* What kind of data do we have?\n",
        "* How is it organized? How many columns have each dataframe?\n",
        "* Are there wrong or missing values?\n",
        "* What does each value of a column means? How many different values are in each column?\n",
        "\n",
        "With the examples we saw in the previous workshop try to answer that questions."
      ]
    },
    {
      "cell_type": "code",
      "execution_count": null,
      "metadata": {
        "id": "MsSwVljWMLdg",
        "outputId": "cf7590d9-681c-4bf2-d615-6ffd469c13a8"
      },
      "outputs": [
        {
          "data": {
            "text/plain": [
              "count       7170\n",
              "unique      2828\n",
              "top       Javier\n",
              "freq         131\n",
              "Name: name, dtype: object"
            ]
          },
          "execution_count": 2,
          "metadata": {},
          "output_type": "execute_result"
        }
      ],
      "source": [
        "researchers.name.describe()"
      ]
    },
    {
      "cell_type": "code",
      "execution_count": null,
      "metadata": {
        "id": "frDlEYCRMLdi",
        "outputId": "196e0fd2-8ff6-42fa-eb85-7b9a0a6ef864"
      },
      "outputs": [
        {
          "name": "stdout",
          "output_type": "stream",
          "text": [
            "<class 'pandas.core.frame.DataFrame'>\n",
            "Int64Index: 7175 entries, 0 to 7174\n",
            "Data columns (total 7 columns):\n",
            " #   Column        Non-Null Count  Dtype  \n",
            "---  ------        --------------  -----  \n",
            " 0   auth_id       7175 non-null   int64  \n",
            " 1   name          7170 non-null   object \n",
            " 2   last_name     7175 non-null   object \n",
            " 3   citations     7174 non-null   float64\n",
            " 4   cited_by      7175 non-null   float64\n",
            " 5   publications  7173 non-null   float64\n",
            " 6   orcid         616 non-null    object \n",
            "dtypes: float64(3), int64(1), object(3)\n",
            "memory usage: 448.4+ KB\n"
          ]
        }
      ],
      "source": [
        "researchers.info()"
      ]
    },
    {
      "cell_type": "code",
      "execution_count": null,
      "metadata": {
        "id": "r2RGzxwaMLdj",
        "outputId": "7c39a7b8-deed-4f31-b896-18b84e212a9e"
      },
      "outputs": [
        {
          "name": "stdout",
          "output_type": "stream",
          "text": [
            "<class 'pandas.core.frame.DataFrame'>\n",
            "Int64Index: 35964 entries, 0 to 35963\n",
            "Data columns (total 9 columns):\n",
            " #   Column       Non-Null Count  Dtype         \n",
            "---  ------       --------------  -----         \n",
            " 0   pages        29764 non-null  float64       \n",
            " 1   authors      35949 non-null  object        \n",
            " 2   title        35953 non-null  object        \n",
            " 3   document_id  35964 non-null  object        \n",
            " 4   date         35952 non-null  datetime64[ns]\n",
            " 5   journal      35768 non-null  object        \n",
            " 6   openaccess   35964 non-null  bool          \n",
            " 7   cited_count  35955 non-null  float64       \n",
            " 8   type         35955 non-null  object        \n",
            "dtypes: bool(1), datetime64[ns](1), float64(2), object(5)\n",
            "memory usage: 2.5+ MB\n"
          ]
        }
      ],
      "source": [
        "publications.info()"
      ]
    },
    {
      "cell_type": "code",
      "execution_count": null,
      "metadata": {
        "id": "2TGNcuJYMLdk",
        "outputId": "4bfde92b-0cde-4a20-ea59-cb3c258da84c"
      },
      "outputs": [
        {
          "data": {
            "text/html": [
              "<div>\n",
              "<style scoped>\n",
              "    .dataframe tbody tr th:only-of-type {\n",
              "        vertical-align: middle;\n",
              "    }\n",
              "\n",
              "    .dataframe tbody tr th {\n",
              "        vertical-align: top;\n",
              "    }\n",
              "\n",
              "    .dataframe thead th {\n",
              "        text-align: right;\n",
              "    }\n",
              "</style>\n",
              "<table border=\"1\" class=\"dataframe\">\n",
              "  <thead>\n",
              "    <tr style=\"text-align: right;\">\n",
              "      <th></th>\n",
              "      <th>auth_id</th>\n",
              "      <th>citations</th>\n",
              "      <th>cited_by</th>\n",
              "      <th>publications</th>\n",
              "    </tr>\n",
              "  </thead>\n",
              "  <tbody>\n",
              "    <tr>\n",
              "      <th>count</th>\n",
              "      <td>7.175000e+03</td>\n",
              "      <td>7174.000000</td>\n",
              "      <td>7175.000000</td>\n",
              "      <td>7173.000000</td>\n",
              "    </tr>\n",
              "    <tr>\n",
              "      <th>mean</th>\n",
              "      <td>4.233308e+10</td>\n",
              "      <td>100.549902</td>\n",
              "      <td>78.590430</td>\n",
              "      <td>8.809703</td>\n",
              "    </tr>\n",
              "    <tr>\n",
              "      <th>std</th>\n",
              "      <td>2.045068e+10</td>\n",
              "      <td>406.214383</td>\n",
              "      <td>292.216692</td>\n",
              "      <td>20.705277</td>\n",
              "    </tr>\n",
              "    <tr>\n",
              "      <th>min</th>\n",
              "      <td>6.503849e+09</td>\n",
              "      <td>-10.000000</td>\n",
              "      <td>0.000000</td>\n",
              "      <td>0.000000</td>\n",
              "    </tr>\n",
              "    <tr>\n",
              "      <th>25%</th>\n",
              "      <td>2.407418e+10</td>\n",
              "      <td>1.000000</td>\n",
              "      <td>1.000000</td>\n",
              "      <td>1.000000</td>\n",
              "    </tr>\n",
              "    <tr>\n",
              "      <th>50%</th>\n",
              "      <td>5.625455e+10</td>\n",
              "      <td>7.000000</td>\n",
              "      <td>6.000000</td>\n",
              "      <td>2.000000</td>\n",
              "    </tr>\n",
              "    <tr>\n",
              "      <th>75%</th>\n",
              "      <td>5.719483e+10</td>\n",
              "      <td>42.000000</td>\n",
              "      <td>37.000000</td>\n",
              "      <td>7.000000</td>\n",
              "    </tr>\n",
              "    <tr>\n",
              "      <th>max</th>\n",
              "      <td>5.720871e+10</td>\n",
              "      <td>9830.000000</td>\n",
              "      <td>6761.000000</td>\n",
              "      <td>343.000000</td>\n",
              "    </tr>\n",
              "  </tbody>\n",
              "</table>\n",
              "</div>"
            ],
            "text/plain": [
              "            auth_id    citations     cited_by  publications\n",
              "count  7.175000e+03  7174.000000  7175.000000   7173.000000\n",
              "mean   4.233308e+10   100.549902    78.590430      8.809703\n",
              "std    2.045068e+10   406.214383   292.216692     20.705277\n",
              "min    6.503849e+09   -10.000000     0.000000      0.000000\n",
              "25%    2.407418e+10     1.000000     1.000000      1.000000\n",
              "50%    5.625455e+10     7.000000     6.000000      2.000000\n",
              "75%    5.719483e+10    42.000000    37.000000      7.000000\n",
              "max    5.720871e+10  9830.000000  6761.000000    343.000000"
            ]
          },
          "execution_count": 5,
          "metadata": {},
          "output_type": "execute_result"
        }
      ],
      "source": [
        "researchers.describe()"
      ]
    },
    {
      "cell_type": "code",
      "execution_count": null,
      "metadata": {
        "id": "rBD2IdN5MLdl",
        "outputId": "cba022fe-b60b-4039-9d38-0ce8ca1f3c56"
      },
      "outputs": [
        {
          "data": {
            "text/plain": [
              "count                   35952\n",
              "unique                   4154\n",
              "top       2014-01-01 00:00:00\n",
              "freq                     1622\n",
              "first     1959-01-01 00:00:00\n",
              "last      2077-12-31 00:00:00\n",
              "Name: date, dtype: object"
            ]
          },
          "execution_count": 6,
          "metadata": {},
          "output_type": "execute_result"
        }
      ],
      "source": [
        "publications.date.describe()"
      ]
    },
    {
      "cell_type": "code",
      "execution_count": null,
      "metadata": {
        "id": "w0NFhAXnMLdn",
        "outputId": "c6e8691c-5c50-4ae6-96f0-68895f323523"
      },
      "outputs": [
        {
          "data": {
            "text/plain": [
              "count    2.976400e+04\n",
              "mean     7.681272e+02\n",
              "std      1.177253e+05\n",
              "min     -1.255000e+07\n",
              "25%      6.000000e+00\n",
              "50%      9.000000e+00\n",
              "75%      1.300000e+01\n",
              "max      1.296919e+07\n",
              "Name: pages, dtype: float64"
            ]
          },
          "execution_count": 7,
          "metadata": {},
          "output_type": "execute_result"
        }
      ],
      "source": [
        "publications.pages.describe()"
      ]
    },
    {
      "cell_type": "code",
      "execution_count": null,
      "metadata": {
        "id": "kfGHkBH5MLdo",
        "outputId": "6147a769-916d-4148-8c55-e20a52feb4b0"
      },
      "outputs": [
        {
          "data": {
            "image/png": "[encoded data removed]",
            "text/plain": [
              "<Figure size 1152x288 with 1 Axes>"
            ]
          },
          "metadata": {
            "needs_background": "light"
          },
          "output_type": "display_data"
        }
      ],
      "source": [
        "fig, ax = plt.subplots(figsize=(16,4))\n",
        "sns.boxplot(data=publications, x=\"pages\",ax=ax)\n",
        "ax.set_xscale(\"log\")"
      ]
    },
    {
      "cell_type": "markdown",
      "metadata": {
        "id": "6TLvn3guMLdp"
      },
      "source": [
        "# Data cleaning\n",
        "After a first view of the data and before to start working with it, we must clean it. This proccess is called preprocessing and it is crucial to be able to obtain good results. We will discard invalid data, fill missing values, drop redundant information, etc. We need to create a dataset with the following restrictions.\n",
        "* All reserachers should have name, last_name and auth_id. All publications should have title, journal and document_id. Drop the rows that do not match this condition (check https://pandas.pydata.org/pandas-docs/stable/reference/api/pandas.DataFrame.dropna.html)\n",
        "* There are no duplicated publications (same title) or researchers (same name and lastname). To find duplicates check https://pandas.pydata.org/pandas-docs/stable/reference/api/pandas.DataFrame.drop_duplicates.html\n",
        "* All numeric fields must be an integer number bigger or equal to 0. Replace missing values with 0, round decimal values\n",
        "* For the rest of the fields, rows that contain incorrect values should be discarded"
      ]
    },
    {
      "cell_type": "code",
      "execution_count": null,
      "metadata": {
        "id": "kl2xYDjhMLdq"
      },
      "outputs": [],
      "source": [
        "# drop null values\n",
        "researchers = researchers.dropna(subset=[\"name\",\"last_name\",\"auth_id\"])\n",
        "publications = publications.dropna(subset=[\"title\",\"journal\",\"document_id\",\"authors\"])"
      ]
    },
    {
      "cell_type": "code",
      "execution_count": null,
      "metadata": {
        "id": "XpOgkUIuMLdr"
      },
      "outputs": [],
      "source": [
        "# discard duplicates\n",
        "researchers = researchers.drop_duplicates(subset=[\"name\",\"last_name\"])\n",
        "publications = publications.drop_duplicates(subset=[\"title\"])"
      ]
    },
    {
      "cell_type": "code",
      "execution_count": null,
      "metadata": {
        "id": "l0GAdxFsMLds"
      },
      "outputs": [],
      "source": [
        "# replace null values in numerics columns with zeros\n",
        "researchers.citations = researchers.citations.fillna(0)\n",
        "researchers.cited_by = researchers.cited_by.fillna(0)\n",
        "researchers.publications = researchers.publications.fillna(0)\n",
        "\n",
        "publications.pages = publications.pages.fillna(0)\n",
        "publications.cited_count = publications.cited_count.fillna(0)"
      ]
    },
    {
      "cell_type": "code",
      "execution_count": null,
      "metadata": {
        "id": "ddNyLUQXMLdt"
      },
      "outputs": [],
      "source": [
        "# drop values <0\n",
        "researchers = researchers[(researchers.citations >= 0) & (researchers.cited_by >= 0) & (researchers.publications >= 0)]\n",
        "publications = publications[(publications.pages >= 0) & (publications.cited_count >= 0)]"
      ]
    },
    {
      "cell_type": "code",
      "execution_count": null,
      "metadata": {
        "id": "_M6hEhABMLdt"
      },
      "outputs": [],
      "source": [
        "# format numbers\n",
        "import numpy as np\n",
        "def to_int(x):\n",
        "    return np.round(x)\n",
        "\n",
        "researchers.citations = researchers.citations.apply(to_int)\n",
        "researchers.cited_by = researchers.cited_by.apply(to_int)\n",
        "researchers.publications = researchers.publications.apply(to_int)\n",
        "\n",
        "publications.pages = publications.pages.apply(to_int)\n",
        "publications.cited_count = publications.cited_count.apply(to_int)"
      ]
    },
    {
      "cell_type": "code",
      "execution_count": null,
      "metadata": {
        "id": "NFfS2K1aMLdu"
      },
      "outputs": [],
      "source": [
        "# wrong values\n",
        "publications = publications[publications.date.dt.year<=2020]\n",
        "publications = publications[publications.pages>0]\n",
        "publications = publications[publications.pages<100]"
      ]
    },
    {
      "cell_type": "markdown",
      "metadata": {
        "id": "8CLiS7gpMLdu"
      },
      "source": [
        "# Data analytics\n",
        "\n",
        "Once we know about the data we are using and we have cleaned it, we need to ask what kind of useful information we can extract from that data. It is a good idea to make a kind of brainstorming of possible questions, then take the list of resulting questions and sort them by their difficulty, finally begin to answer them starting by the easiest ones.\n",
        "\n",
        "Yoy may need to use a joined dataset to answer some questions"
      ]
    },
    {
      "cell_type": "code",
      "execution_count": null,
      "metadata": {
        "id": "h9nXJBmhMLdv"
      },
      "outputs": [],
      "source": [
        "# This operation creates a dataset combining researchers and publications producing a dataset with one row for each\n",
        "# combination of researcher-publication in which the researcher is one of the authors of the publication\n",
        "data = researchers.merge(publications.rename(columns={\"authors\":\"auth_id\"}).explode(\"auth_id\"), on=\"auth_id\")"
      ]
    },
    {
      "cell_type": "markdown",
      "metadata": {
        "id": "c_5U3Au5MLdv"
      },
      "source": [
        "## Basic results\n",
        "\n",
        "Some of the esaiest question or more basic results we can obtain are the following:\n",
        "* Numeric results\n",
        "    * How many researchers are?\n",
        "    * How many publications are?\n",
        "    * How many of journals are?\n",
        "    * How many types of publications are?\n",
        "    * How many publications of each type are?\n",
        "    * How many publications have each researcher in average? (Use only researchers dataset)\n",
        "    * Which is the oldest publication?\n",
        "    * Which is the publication with most citations?\n",
        "    * Who is the researcher with more publications? (Use only researchers dataset)\n",
        "    * How many researchers have ORCid?\n",
        "* Graphic results\n",
        "    * Histogram of the number of publications per researcher\n",
        "    * Bar chart of the number of publications by type\n",
        "    * Line chart of the number of publications per year\n",
        "\n",
        "Som of those questions are just countings, sumations or rankings, but other need data aggregations with ``groupby``.\n",
        "\n",
        "**Answer each question in a different cell of this notebook (remember that you can insert new cell from the Insert menu).**"
      ]
    },
    {
      "cell_type": "code",
      "execution_count": null,
      "metadata": {
        "id": "Djr8-v_kMLdw",
        "outputId": "a986c1fd-cc6d-456d-b59a-1a2c6aee4784"
      },
      "outputs": [
        {
          "name": "stdout",
          "output_type": "stream",
          "text": [
            "There are 7056 researchers\n"
          ]
        }
      ],
      "source": [
        "# How many researchers are?\n",
        "print(\"There are {} researchers\".format(len(researchers)))"
      ]
    },
    {
      "cell_type": "code",
      "execution_count": null,
      "metadata": {
        "scrolled": true,
        "id": "a9W35ivaMLdw",
        "outputId": "d63cbb47-0f01-4598-d9c0-feec35d6266d"
      },
      "outputs": [
        {
          "name": "stdout",
          "output_type": "stream",
          "text": [
            "There are 29178 publications\n"
          ]
        }
      ],
      "source": [
        "# How many publications are?\n",
        "print(\"There are {} publications\".format(len(publications)))"
      ]
    },
    {
      "cell_type": "code",
      "execution_count": null,
      "metadata": {
        "id": "WLwmRgJsMLdx",
        "outputId": "670aeaef-366f-4d57-fe8d-cf5731ddf641"
      },
      "outputs": [
        {
          "name": "stdout",
          "output_type": "stream",
          "text": [
            "There are 6746 different journals\n"
          ]
        }
      ],
      "source": [
        "# How many journals are?\n",
        "print(\"There are {} different journals\".format(len(publications.journal.unique())))"
      ]
    },
    {
      "cell_type": "code",
      "execution_count": null,
      "metadata": {
        "id": "rE3tmrfGMLdx",
        "outputId": "875e04c3-6bbd-412e-8cc2-0ea8ee7edab1"
      },
      "outputs": [
        {
          "name": "stdout",
          "output_type": "stream",
          "text": [
            "There are 12 types of publications\n"
          ]
        }
      ],
      "source": [
        "# How many types of publications are?\n",
        "print(\"There are {} types of publications\".format(len(publications.type.unique())))"
      ]
    },
    {
      "cell_type": "code",
      "execution_count": null,
      "metadata": {
        "id": "3oSis013MLdy",
        "outputId": "4cfa6ff6-40d8-498f-9594-0072f60f9092"
      },
      "outputs": [
        {
          "data": {
            "text/plain": [
              "type\n",
              "Article             18763\n",
              "Article in Press       12\n",
              "Book                   17\n",
              "Chapter               644\n",
              "Conference Paper     8817\n",
              "Editorial              93\n",
              "Erratum                 9\n",
              "Letter                 47\n",
              "Note                   66\n",
              "Review                675\n",
              "Short Survey           28\n",
              "Name: document_id, dtype: int64"
            ]
          },
          "execution_count": 20,
          "metadata": {},
          "output_type": "execute_result"
        }
      ],
      "source": [
        "# How many publications of each type are?\n",
        "publications.groupby(\"type\")[\"document_id\"].count()"
      ]
    },
    {
      "cell_type": "code",
      "execution_count": null,
      "metadata": {
        "id": "6Ll8CdfCMLdy",
        "outputId": "f6bdc3f1-88b0-484c-abfd-d378e14b8c11"
      },
      "outputs": [
        {
          "name": "stdout",
          "output_type": "stream",
          "text": [
            "Each researcher has 8.9 publications in average\n"
          ]
        }
      ],
      "source": [
        "# How many publications have each researcher in average? (Use only researchers dataset)\n",
        "print(\"Each researcher has {:.2} publications in average\".format(researchers.publications.mean()))"
      ]
    },
    {
      "cell_type": "code",
      "execution_count": null,
      "metadata": {
        "id": "qneAN0xwMLdy",
        "outputId": "d0c5829d-a89d-4892-9312-7e2f3b5e0840"
      },
      "outputs": [
        {
          "data": {
            "text/html": [
              "<div>\n",
              "<style scoped>\n",
              "    .dataframe tbody tr th:only-of-type {\n",
              "        vertical-align: middle;\n",
              "    }\n",
              "\n",
              "    .dataframe tbody tr th {\n",
              "        vertical-align: top;\n",
              "    }\n",
              "\n",
              "    .dataframe thead th {\n",
              "        text-align: right;\n",
              "    }\n",
              "</style>\n",
              "<table border=\"1\" class=\"dataframe\">\n",
              "  <thead>\n",
              "    <tr style=\"text-align: right;\">\n",
              "      <th></th>\n",
              "      <th>pages</th>\n",
              "      <th>authors</th>\n",
              "      <th>title</th>\n",
              "      <th>document_id</th>\n",
              "      <th>date</th>\n",
              "      <th>journal</th>\n",
              "      <th>openaccess</th>\n",
              "      <th>cited_count</th>\n",
              "      <th>type</th>\n",
              "    </tr>\n",
              "  </thead>\n",
              "  <tbody>\n",
              "    <tr>\n",
              "      <th>33538</th>\n",
              "      <td>16.0</td>\n",
              "      <td>[24580537700, 6504371460, 55463179200]</td>\n",
              "      <td>Study of the impedance of a platinum electrode...</td>\n",
              "      <td>26744475991</td>\n",
              "      <td>1959-01-01</td>\n",
              "      <td>Electrochimica Acta</td>\n",
              "      <td>False</td>\n",
              "      <td>28.0</td>\n",
              "      <td>Article</td>\n",
              "    </tr>\n",
              "  </tbody>\n",
              "</table>\n",
              "</div>"
            ],
            "text/plain": [
              "       pages                                 authors  \\\n",
              "33538   16.0  [24580537700, 6504371460, 55463179200]   \n",
              "\n",
              "                                                   title  document_id  \\\n",
              "33538  Study of the impedance of a platinum electrode...  26744475991   \n",
              "\n",
              "            date              journal  openaccess  cited_count     type  \n",
              "33538 1959-01-01  Electrochimica Acta       False         28.0  Article  "
            ]
          },
          "execution_count": 22,
          "metadata": {},
          "output_type": "execute_result"
        }
      ],
      "source": [
        "# Which is the oldest publication?\n",
        "publications[publications.date == publications.date.min()]"
      ]
    },
    {
      "cell_type": "code",
      "execution_count": null,
      "metadata": {
        "id": "pn_28iYoMLdz",
        "outputId": "64250eaf-3a27-4084-c4bd-0c0db0d58542"
      },
      "outputs": [
        {
          "data": {
            "text/html": [
              "<div>\n",
              "<style scoped>\n",
              "    .dataframe tbody tr th:only-of-type {\n",
              "        vertical-align: middle;\n",
              "    }\n",
              "\n",
              "    .dataframe tbody tr th {\n",
              "        vertical-align: top;\n",
              "    }\n",
              "\n",
              "    .dataframe thead th {\n",
              "        text-align: right;\n",
              "    }\n",
              "</style>\n",
              "<table border=\"1\" class=\"dataframe\">\n",
              "  <thead>\n",
              "    <tr style=\"text-align: right;\">\n",
              "      <th></th>\n",
              "      <th>pages</th>\n",
              "      <th>authors</th>\n",
              "      <th>title</th>\n",
              "      <th>document_id</th>\n",
              "      <th>date</th>\n",
              "      <th>journal</th>\n",
              "      <th>openaccess</th>\n",
              "      <th>cited_count</th>\n",
              "      <th>type</th>\n",
              "    </tr>\n",
              "  </thead>\n",
              "  <tbody>\n",
              "    <tr>\n",
              "      <th>2152</th>\n",
              "      <td>11.0</td>\n",
              "      <td>[6507925214, 6701794860, 7004720416]</td>\n",
              "      <td>A review of feature selection techniques in bi...</td>\n",
              "      <td>35748932917</td>\n",
              "      <td>2007-10-01</td>\n",
              "      <td>Bioinformatics</td>\n",
              "      <td>True</td>\n",
              "      <td>2406.0</td>\n",
              "      <td>Review</td>\n",
              "    </tr>\n",
              "  </tbody>\n",
              "</table>\n",
              "</div>"
            ],
            "text/plain": [
              "      pages                               authors  \\\n",
              "2152   11.0  [6507925214, 6701794860, 7004720416]   \n",
              "\n",
              "                                                  title  document_id  \\\n",
              "2152  A review of feature selection techniques in bi...  35748932917   \n",
              "\n",
              "           date         journal  openaccess  cited_count    type  \n",
              "2152 2007-10-01  Bioinformatics        True       2406.0  Review  "
            ]
          },
          "execution_count": 23,
          "metadata": {},
          "output_type": "execute_result"
        }
      ],
      "source": [
        "# Which is the publication with most citations?\n",
        "publications[publications.cited_count == publications.cited_count.max()]"
      ]
    },
    {
      "cell_type": "code",
      "execution_count": null,
      "metadata": {
        "id": "cF7gPSJqMLdz",
        "outputId": "4b434bca-a0bf-4c88-bf5e-2e445f5096d9"
      },
      "outputs": [
        {
          "data": {
            "text/html": [
              "<div>\n",
              "<style scoped>\n",
              "    .dataframe tbody tr th:only-of-type {\n",
              "        vertical-align: middle;\n",
              "    }\n",
              "\n",
              "    .dataframe tbody tr th {\n",
              "        vertical-align: top;\n",
              "    }\n",
              "\n",
              "    .dataframe thead th {\n",
              "        text-align: right;\n",
              "    }\n",
              "</style>\n",
              "<table border=\"1\" class=\"dataframe\">\n",
              "  <thead>\n",
              "    <tr style=\"text-align: right;\">\n",
              "      <th></th>\n",
              "      <th>auth_id</th>\n",
              "      <th>name</th>\n",
              "      <th>last_name</th>\n",
              "      <th>citations</th>\n",
              "      <th>cited_by</th>\n",
              "      <th>publications</th>\n",
              "      <th>orcid</th>\n",
              "    </tr>\n",
              "  </thead>\n",
              "  <tbody>\n",
              "    <tr>\n",
              "      <th>0</th>\n",
              "      <td>7005227142</td>\n",
              "      <td>José Antonio</td>\n",
              "      <td>Cobos</td>\n",
              "      <td>5267.0</td>\n",
              "      <td>3940.0</td>\n",
              "      <td>343.0</td>\n",
              "      <td>None</td>\n",
              "    </tr>\n",
              "  </tbody>\n",
              "</table>\n",
              "</div>"
            ],
            "text/plain": [
              "      auth_id          name last_name  citations  cited_by  publications orcid\n",
              "0  7005227142  José Antonio     Cobos     5267.0    3940.0         343.0  None"
            ]
          },
          "execution_count": 24,
          "metadata": {},
          "output_type": "execute_result"
        }
      ],
      "source": [
        "# Who is the researcher with more publications? (Use only researchers dataset)\n",
        "researchers[researchers.publications == researchers.publications.max()]"
      ]
    },
    {
      "cell_type": "code",
      "execution_count": null,
      "metadata": {
        "id": "oMoHFCcAMLdz",
        "outputId": "fe7bf029-2b8c-4062-ceec-180db22f17d8"
      },
      "outputs": [
        {
          "data": {
            "text/html": [
              "<div>\n",
              "<style scoped>\n",
              "    .dataframe tbody tr th:only-of-type {\n",
              "        vertical-align: middle;\n",
              "    }\n",
              "\n",
              "    .dataframe tbody tr th {\n",
              "        vertical-align: top;\n",
              "    }\n",
              "\n",
              "    .dataframe thead th {\n",
              "        text-align: right;\n",
              "    }\n",
              "</style>\n",
              "<table border=\"1\" class=\"dataframe\">\n",
              "  <thead>\n",
              "    <tr style=\"text-align: right;\">\n",
              "      <th></th>\n",
              "      <th>auth_id</th>\n",
              "      <th>name</th>\n",
              "      <th>last_name</th>\n",
              "      <th>citations</th>\n",
              "      <th>cited_by</th>\n",
              "      <th>publications</th>\n",
              "      <th>orcid</th>\n",
              "    </tr>\n",
              "  </thead>\n",
              "  <tbody>\n",
              "    <tr>\n",
              "      <th>4</th>\n",
              "      <td>8899577600</td>\n",
              "      <td>Javier</td>\n",
              "      <td>Bajo</td>\n",
              "      <td>2213.0</td>\n",
              "      <td>1376.0</td>\n",
              "      <td>271.0</td>\n",
              "      <td>0000-0003-0824-4133</td>\n",
              "    </tr>\n",
              "    <tr>\n",
              "      <th>6</th>\n",
              "      <td>7003699673</td>\n",
              "      <td>Juan C.</td>\n",
              "      <td>Minano</td>\n",
              "      <td>3068.0</td>\n",
              "      <td>1799.0</td>\n",
              "      <td>243.0</td>\n",
              "      <td>0000-0003-2281-0728</td>\n",
              "    </tr>\n",
              "    <tr>\n",
              "      <th>10</th>\n",
              "      <td>14010357000</td>\n",
              "      <td>Óscar</td>\n",
              "      <td>Corcho</td>\n",
              "      <td>3793.0</td>\n",
              "      <td>3199.0</td>\n",
              "      <td>217.0</td>\n",
              "      <td>0000-0002-9260-0753</td>\n",
              "    </tr>\n",
              "    <tr>\n",
              "      <th>14</th>\n",
              "      <td>7005864666</td>\n",
              "      <td>Alexander N.</td>\n",
              "      <td>Pisarchik</td>\n",
              "      <td>2529.0</td>\n",
              "      <td>1450.0</td>\n",
              "      <td>195.0</td>\n",
              "      <td>0000-0003-2471-2507</td>\n",
              "    </tr>\n",
              "    <tr>\n",
              "      <th>16</th>\n",
              "      <td>24722967900</td>\n",
              "      <td>Andres</td>\n",
              "      <td>Santos</td>\n",
              "      <td>3070.0</td>\n",
              "      <td>2706.0</td>\n",
              "      <td>190.0</td>\n",
              "      <td>0000-0001-7423-9135</td>\n",
              "    </tr>\n",
              "    <tr>\n",
              "      <th>...</th>\n",
              "      <td>...</td>\n",
              "      <td>...</td>\n",
              "      <td>...</td>\n",
              "      <td>...</td>\n",
              "      <td>...</td>\n",
              "      <td>...</td>\n",
              "      <td>...</td>\n",
              "    </tr>\n",
              "    <tr>\n",
              "      <th>6576</th>\n",
              "      <td>57195055730</td>\n",
              "      <td>Ely Dannier</td>\n",
              "      <td>Valbuena-Niño</td>\n",
              "      <td>0.0</td>\n",
              "      <td>0.0</td>\n",
              "      <td>1.0</td>\n",
              "      <td>0000-0003-4154-7179</td>\n",
              "    </tr>\n",
              "    <tr>\n",
              "      <th>6617</th>\n",
              "      <td>57205462726</td>\n",
              "      <td>M.</td>\n",
              "      <td>Pena</td>\n",
              "      <td>0.0</td>\n",
              "      <td>0.0</td>\n",
              "      <td>1.0</td>\n",
              "      <td>0000-0002-7362-2586</td>\n",
              "    </tr>\n",
              "    <tr>\n",
              "      <th>6697</th>\n",
              "      <td>34769551000</td>\n",
              "      <td>C. E.</td>\n",
              "      <td>García</td>\n",
              "      <td>1.0</td>\n",
              "      <td>1.0</td>\n",
              "      <td>2.0</td>\n",
              "      <td>0000-0002-8282-0234</td>\n",
              "    </tr>\n",
              "    <tr>\n",
              "      <th>6897</th>\n",
              "      <td>57170378400</td>\n",
              "      <td>Angel Y.</td>\n",
              "      <td>Hernan</td>\n",
              "      <td>1.0</td>\n",
              "      <td>1.0</td>\n",
              "      <td>1.0</td>\n",
              "      <td>0000-0002-3290-9433</td>\n",
              "    </tr>\n",
              "    <tr>\n",
              "      <th>7147</th>\n",
              "      <td>35782062100</td>\n",
              "      <td>Andres</td>\n",
              "      <td>Monzón</td>\n",
              "      <td>843.0</td>\n",
              "      <td>709.0</td>\n",
              "      <td>84.0</td>\n",
              "      <td>0000-0001-7265-2663</td>\n",
              "    </tr>\n",
              "  </tbody>\n",
              "</table>\n",
              "<p>614 rows × 7 columns</p>\n",
              "</div>"
            ],
            "text/plain": [
              "          auth_id          name      last_name  citations  cited_by  \\\n",
              "4      8899577600        Javier           Bajo     2213.0    1376.0   \n",
              "6      7003699673       Juan C.         Minano     3068.0    1799.0   \n",
              "10    14010357000         Óscar         Corcho     3793.0    3199.0   \n",
              "14     7005864666  Alexander N.      Pisarchik     2529.0    1450.0   \n",
              "16    24722967900        Andres         Santos     3070.0    2706.0   \n",
              "...           ...           ...            ...        ...       ...   \n",
              "6576  57195055730   Ely Dannier  Valbuena-Niño        0.0       0.0   \n",
              "6617  57205462726            M.           Pena        0.0       0.0   \n",
              "6697  34769551000         C. E.         García        1.0       1.0   \n",
              "6897  57170378400      Angel Y.         Hernan        1.0       1.0   \n",
              "7147  35782062100        Andres         Monzón      843.0     709.0   \n",
              "\n",
              "      publications                orcid  \n",
              "4            271.0  0000-0003-0824-4133  \n",
              "6            243.0  0000-0003-2281-0728  \n",
              "10           217.0  0000-0002-9260-0753  \n",
              "14           195.0  0000-0003-2471-2507  \n",
              "16           190.0  0000-0001-7423-9135  \n",
              "...            ...                  ...  \n",
              "6576           1.0  0000-0003-4154-7179  \n",
              "6617           1.0  0000-0002-7362-2586  \n",
              "6697           2.0  0000-0002-8282-0234  \n",
              "6897           1.0  0000-0002-3290-9433  \n",
              "7147          84.0  0000-0001-7265-2663  \n",
              "\n",
              "[614 rows x 7 columns]"
            ]
          },
          "execution_count": 25,
          "metadata": {},
          "output_type": "execute_result"
        }
      ],
      "source": [
        "# How many researchers have ORCid?\n",
        "researchers[researchers.orcid.notna()]"
      ]
    },
    {
      "cell_type": "code",
      "execution_count": null,
      "metadata": {
        "id": "wxCK9z8PMLd0",
        "outputId": "5389ab9f-3932-4c46-c703-7d4d3541051b"
      },
      "outputs": [
        {
          "data": {
            "text/plain": [
              "(0.0, 120.0)"
            ]
          },
          "execution_count": 26,
          "metadata": {},
          "output_type": "execute_result"
        },
        {
          "data": {
            "image/png": "[encoded data removed]",
            "text/plain": [
              "<Figure size 1152x288 with 1 Axes>"
            ]
          },
          "metadata": {
            "needs_background": "light"
          },
          "output_type": "display_data"
        }
      ],
      "source": [
        "# Histogram of the number of publications per researcher\n",
        "fig, ax = plt.subplots(figsize=(16,4))\n",
        "sns.histplot(data=researchers, x=\"publications\", bins=200, ax=ax)\n",
        "ax.set_xlim(0, 120)"
      ]
    },
    {
      "cell_type": "code",
      "execution_count": null,
      "metadata": {
        "id": "tSnf9Pn-MLd0",
        "outputId": "78f9dcf8-dd8d-4640-8037-34b964d34562"
      },
      "outputs": [
        {
          "data": {
            "text/plain": [
              "<matplotlib.axes._subplots.AxesSubplot at 0x1db18e853a0>"
            ]
          },
          "execution_count": 27,
          "metadata": {},
          "output_type": "execute_result"
        },
        {
          "data": {
            "image/png": "[encoded data removed]",
            "text/plain": [
              "<Figure size 1152x288 with 1 Axes>"
            ]
          },
          "metadata": {
            "needs_background": "light"
          },
          "output_type": "display_data"
        }
      ],
      "source": [
        "# Bar chart of the number of publications by type\n",
        "fig, ax = plt.subplots(figsize=(16,4))\n",
        "sns.countplot(data=publications, x=\"type\", ax=ax)"
      ]
    },
    {
      "cell_type": "code",
      "execution_count": null,
      "metadata": {
        "id": "5wxcIuEFMLd1",
        "outputId": "561c70aa-2de3-4e53-c6c5-0f8e31253af7"
      },
      "outputs": [
        {
          "data": {
            "text/plain": [
              "<matplotlib.axes._subplots.AxesSubplot at 0x1db1996cf40>"
            ]
          },
          "execution_count": 28,
          "metadata": {},
          "output_type": "execute_result"
        },
        {
          "data": {
            "image/png": "[encoded data removed]",
            "text/plain": [
              "<Figure size 1152x288 with 1 Axes>"
            ]
          },
          "metadata": {
            "needs_background": "light"
          },
          "output_type": "display_data"
        }
      ],
      "source": [
        "# Line chart of the number of publications per year\n",
        "fig, ax = plt.subplots(figsize=(16,4))\n",
        "publication_year = publications.groupby(publications.date.dt.year)[[\"document_id\"]].count()\n",
        "sns.lineplot(data=publication_year, x=\"date\", y=\"document_id\", ax=ax)"
      ]
    },
    {
      "cell_type": "markdown",
      "metadata": {
        "id": "7_uiXZKIMLd1"
      },
      "source": [
        "# Intermediate results\n",
        "\n",
        "* Numeric results\n",
        "    * How many publications of each researcher are in the data? Is this the same number than the column ``document-count``?\n",
        "    * How many authors have each publication?\n",
        "    * What is the average number of authors in a publication?\n",
        "    * What is the average number of pages in a publication depending of the publication type?\n",
        "    * What is the average number of citations in a publication depending of the publication type?\n",
        "    * How many years each researcher have been active? (difference between the publicationDate of the oldest and newest publications)\n",
        "* Graphic results\n",
        "    * Histogram of the number of researchers by the number of active years\n",
        "    * Histogram of the number of authors in a publication\n",
        "    * Scatter plot of the publication year vs the number of citations\n",
        "    * Chart of the average number of citations depending on the publication type\n",
        "    * Chart of the average number of pages depending on the publication type\n"
      ]
    },
    {
      "cell_type": "code",
      "execution_count": null,
      "metadata": {
        "id": "C5d7ED3OMLd1",
        "outputId": "885251cb-8619-4fee-e77a-f16e6cbf1e65"
      },
      "outputs": [
        {
          "data": {
            "text/html": [
              "<div>\n",
              "<style scoped>\n",
              "    .dataframe tbody tr th:only-of-type {\n",
              "        vertical-align: middle;\n",
              "    }\n",
              "\n",
              "    .dataframe tbody tr th {\n",
              "        vertical-align: top;\n",
              "    }\n",
              "\n",
              "    .dataframe thead th {\n",
              "        text-align: right;\n",
              "    }\n",
              "</style>\n",
              "<table border=\"1\" class=\"dataframe\">\n",
              "  <thead>\n",
              "    <tr style=\"text-align: right;\">\n",
              "      <th></th>\n",
              "      <th>document_id</th>\n",
              "    </tr>\n",
              "    <tr>\n",
              "      <th>auth_id</th>\n",
              "      <th></th>\n",
              "    </tr>\n",
              "  </thead>\n",
              "  <tbody>\n",
              "    <tr>\n",
              "      <th>6503848928</th>\n",
              "      <td>2</td>\n",
              "    </tr>\n",
              "    <tr>\n",
              "      <th>6503890565</th>\n",
              "      <td>3</td>\n",
              "    </tr>\n",
              "    <tr>\n",
              "      <th>6503896634</th>\n",
              "      <td>5</td>\n",
              "    </tr>\n",
              "    <tr>\n",
              "      <th>6503903714</th>\n",
              "      <td>1</td>\n",
              "    </tr>\n",
              "    <tr>\n",
              "      <th>6503939551</th>\n",
              "      <td>1</td>\n",
              "    </tr>\n",
              "    <tr>\n",
              "      <th>...</th>\n",
              "      <td>...</td>\n",
              "    </tr>\n",
              "    <tr>\n",
              "      <th>57208597828</th>\n",
              "      <td>1</td>\n",
              "    </tr>\n",
              "    <tr>\n",
              "      <th>57208599115</th>\n",
              "      <td>1</td>\n",
              "    </tr>\n",
              "    <tr>\n",
              "      <th>57208639475</th>\n",
              "      <td>1</td>\n",
              "    </tr>\n",
              "    <tr>\n",
              "      <th>57208670663</th>\n",
              "      <td>1</td>\n",
              "    </tr>\n",
              "    <tr>\n",
              "      <th>57208701829</th>\n",
              "      <td>1</td>\n",
              "    </tr>\n",
              "  </tbody>\n",
              "</table>\n",
              "<p>5380 rows × 1 columns</p>\n",
              "</div>"
            ],
            "text/plain": [
              "             document_id\n",
              "auth_id                 \n",
              "6503848928             2\n",
              "6503890565             3\n",
              "6503896634             5\n",
              "6503903714             1\n",
              "6503939551             1\n",
              "...                  ...\n",
              "57208597828            1\n",
              "57208599115            1\n",
              "57208639475            1\n",
              "57208670663            1\n",
              "57208701829            1\n",
              "\n",
              "[5380 rows x 1 columns]"
            ]
          },
          "execution_count": 29,
          "metadata": {},
          "output_type": "execute_result"
        }
      ],
      "source": [
        "# How many publications of each researcher are in the data? Is this the same number than the column document-count?\n",
        "data.groupby(\"auth_id\")[[\"document_id\"]].count()"
      ]
    },
    {
      "cell_type": "code",
      "execution_count": null,
      "metadata": {
        "id": "sR1pz6tjMLd2",
        "outputId": "21da8f43-e876-45a4-8b49-6328c15fa52f"
      },
      "outputs": [
        {
          "data": {
            "text/html": [
              "<div>\n",
              "<style scoped>\n",
              "    .dataframe tbody tr th:only-of-type {\n",
              "        vertical-align: middle;\n",
              "    }\n",
              "\n",
              "    .dataframe tbody tr th {\n",
              "        vertical-align: top;\n",
              "    }\n",
              "\n",
              "    .dataframe thead th {\n",
              "        text-align: right;\n",
              "    }\n",
              "</style>\n",
              "<table border=\"1\" class=\"dataframe\">\n",
              "  <thead>\n",
              "    <tr style=\"text-align: right;\">\n",
              "      <th></th>\n",
              "      <th>auth_id</th>\n",
              "      <th>publications</th>\n",
              "    </tr>\n",
              "  </thead>\n",
              "  <tbody>\n",
              "    <tr>\n",
              "      <th>3435</th>\n",
              "      <td>6503848928</td>\n",
              "      <td>2.0</td>\n",
              "    </tr>\n",
              "    <tr>\n",
              "      <th>2346</th>\n",
              "      <td>6503890565</td>\n",
              "      <td>4.0</td>\n",
              "    </tr>\n",
              "    <tr>\n",
              "      <th>1874</th>\n",
              "      <td>6503896634</td>\n",
              "      <td>6.0</td>\n",
              "    </tr>\n",
              "    <tr>\n",
              "      <th>6043</th>\n",
              "      <td>6503903714</td>\n",
              "      <td>1.0</td>\n",
              "    </tr>\n",
              "    <tr>\n",
              "      <th>6754</th>\n",
              "      <td>6503908970</td>\n",
              "      <td>0.0</td>\n",
              "    </tr>\n",
              "    <tr>\n",
              "      <th>...</th>\n",
              "      <td>...</td>\n",
              "      <td>...</td>\n",
              "    </tr>\n",
              "    <tr>\n",
              "      <th>6820</th>\n",
              "      <td>57208685753</td>\n",
              "      <td>1.0</td>\n",
              "    </tr>\n",
              "    <tr>\n",
              "      <th>6579</th>\n",
              "      <td>57208701829</td>\n",
              "      <td>1.0</td>\n",
              "    </tr>\n",
              "    <tr>\n",
              "      <th>6837</th>\n",
              "      <td>57208702302</td>\n",
              "      <td>1.0</td>\n",
              "    </tr>\n",
              "    <tr>\n",
              "      <th>6407</th>\n",
              "      <td>57208702888</td>\n",
              "      <td>2.0</td>\n",
              "    </tr>\n",
              "    <tr>\n",
              "      <th>5669</th>\n",
              "      <td>57208707841</td>\n",
              "      <td>1.0</td>\n",
              "    </tr>\n",
              "  </tbody>\n",
              "</table>\n",
              "<p>7056 rows × 2 columns</p>\n",
              "</div>"
            ],
            "text/plain": [
              "          auth_id  publications\n",
              "3435   6503848928           2.0\n",
              "2346   6503890565           4.0\n",
              "1874   6503896634           6.0\n",
              "6043   6503903714           1.0\n",
              "6754   6503908970           0.0\n",
              "...           ...           ...\n",
              "6820  57208685753           1.0\n",
              "6579  57208701829           1.0\n",
              "6837  57208702302           1.0\n",
              "6407  57208702888           2.0\n",
              "5669  57208707841           1.0\n",
              "\n",
              "[7056 rows x 2 columns]"
            ]
          },
          "execution_count": 30,
          "metadata": {},
          "output_type": "execute_result"
        }
      ],
      "source": [
        "researchers.sort_values(by=\"auth_id\")[[\"auth_id\",\"publications\"]]"
      ]
    },
    {
      "cell_type": "code",
      "execution_count": null,
      "metadata": {
        "id": "SurYhq99MLd2",
        "outputId": "9f9ff33f-5038-452c-e183-39a075fc4181"
      },
      "outputs": [
        {
          "data": {
            "text/html": [
              "<div>\n",
              "<style scoped>\n",
              "    .dataframe tbody tr th:only-of-type {\n",
              "        vertical-align: middle;\n",
              "    }\n",
              "\n",
              "    .dataframe tbody tr th {\n",
              "        vertical-align: top;\n",
              "    }\n",
              "\n",
              "    .dataframe thead th {\n",
              "        text-align: right;\n",
              "    }\n",
              "</style>\n",
              "<table border=\"1\" class=\"dataframe\">\n",
              "  <thead>\n",
              "    <tr style=\"text-align: right;\">\n",
              "      <th></th>\n",
              "      <th>pages</th>\n",
              "      <th>authors</th>\n",
              "      <th>title</th>\n",
              "      <th>document_id</th>\n",
              "      <th>date</th>\n",
              "      <th>journal</th>\n",
              "      <th>openaccess</th>\n",
              "      <th>cited_count</th>\n",
              "      <th>type</th>\n",
              "      <th>nauthors</th>\n",
              "    </tr>\n",
              "  </thead>\n",
              "  <tbody>\n",
              "    <tr>\n",
              "      <th>0</th>\n",
              "      <td>15.0</td>\n",
              "      <td>[57204955584, 57200520067, 24922369500, 244382...</td>\n",
              "      <td>High-Efficiency High-Bandwidth Four-Quadrant F...</td>\n",
              "      <td>85058136304</td>\n",
              "      <td>2019-06-01</td>\n",
              "      <td>IEEE Journal of Emerging and Selected Topics i...</td>\n",
              "      <td>False</td>\n",
              "      <td>0.0</td>\n",
              "      <td>Article</td>\n",
              "      <td>8</td>\n",
              "    </tr>\n",
              "    <tr>\n",
              "      <th>1</th>\n",
              "      <td>8.0</td>\n",
              "      <td>[7005227142, 57200519327, 57200511770, 2443825...</td>\n",
              "      <td>Energy-Buffered Single-Phase Inverter Operatin...</td>\n",
              "      <td>85060314395</td>\n",
              "      <td>2018-12-03</td>\n",
              "      <td>2018 IEEE Energy Conversion Congress and Expos...</td>\n",
              "      <td>False</td>\n",
              "      <td>2.0</td>\n",
              "      <td>Conference Paper</td>\n",
              "      <td>5</td>\n",
              "    </tr>\n",
              "    <tr>\n",
              "      <th>2</th>\n",
              "      <td>8.0</td>\n",
              "      <td>[57200511770, 57200519327, 56249124100, 244382...</td>\n",
              "      <td>ZVS transitions in Multi-Mode Single Stage Inv...</td>\n",
              "      <td>85060302761</td>\n",
              "      <td>2018-12-03</td>\n",
              "      <td>2018 IEEE Energy Conversion Congress and Expos...</td>\n",
              "      <td>False</td>\n",
              "      <td>1.0</td>\n",
              "      <td>Conference Paper</td>\n",
              "      <td>5</td>\n",
              "    </tr>\n",
              "    <tr>\n",
              "      <th>3</th>\n",
              "      <td>5.0</td>\n",
              "      <td>[57195619519, 57204116610, 24438258500, 700522...</td>\n",
              "      <td>Equivalent Parameters of Round and Litz Wire C...</td>\n",
              "      <td>85060302746</td>\n",
              "      <td>2018-12-03</td>\n",
              "      <td>2018 IEEE Energy Conversion Congress and Expos...</td>\n",
              "      <td>False</td>\n",
              "      <td>0.0</td>\n",
              "      <td>Conference Paper</td>\n",
              "      <td>5</td>\n",
              "    </tr>\n",
              "    <tr>\n",
              "      <th>4</th>\n",
              "      <td>6.0</td>\n",
              "      <td>[57200519327, 57200511770, 24438258500, 562491...</td>\n",
              "      <td>Digital Variable Frequency Control of a Single...</td>\n",
              "      <td>85060299891</td>\n",
              "      <td>2018-12-03</td>\n",
              "      <td>2018 IEEE Energy Conversion Congress and Expos...</td>\n",
              "      <td>False</td>\n",
              "      <td>1.0</td>\n",
              "      <td>Conference Paper</td>\n",
              "      <td>5</td>\n",
              "    </tr>\n",
              "    <tr>\n",
              "      <th>...</th>\n",
              "      <td>...</td>\n",
              "      <td>...</td>\n",
              "      <td>...</td>\n",
              "      <td>...</td>\n",
              "      <td>...</td>\n",
              "      <td>...</td>\n",
              "      <td>...</td>\n",
              "      <td>...</td>\n",
              "      <td>...</td>\n",
              "      <td>...</td>\n",
              "    </tr>\n",
              "    <tr>\n",
              "      <th>35958</th>\n",
              "      <td>21.0</td>\n",
              "      <td>[16319177900, 25638973000, 57195326886]</td>\n",
              "      <td>Micro-manufacturing technologies for biodevice...</td>\n",
              "      <td>85027116848</td>\n",
              "      <td>2013-01-01</td>\n",
              "      <td>Handbook on Advanced Design and Manufacturing ...</td>\n",
              "      <td>False</td>\n",
              "      <td>1.0</td>\n",
              "      <td>Chapter</td>\n",
              "      <td>3</td>\n",
              "    </tr>\n",
              "    <tr>\n",
              "      <th>35960</th>\n",
              "      <td>13.0</td>\n",
              "      <td>[57195323836, 57195323776, 57195321188, 571900...</td>\n",
              "      <td>Predictive value of serum infliximab levels at...</td>\n",
              "      <td>85027118255</td>\n",
              "      <td>2017-06-01</td>\n",
              "      <td>Open Rheumatology Journal</td>\n",
              "      <td>True</td>\n",
              "      <td>3.0</td>\n",
              "      <td>Article</td>\n",
              "      <td>15</td>\n",
              "    </tr>\n",
              "    <tr>\n",
              "      <th>35961</th>\n",
              "      <td>10.0</td>\n",
              "      <td>[57206889833, 57195310042]</td>\n",
              "      <td>The [textile] materiality of jorn utzon's encl...</td>\n",
              "      <td>85062100903</td>\n",
              "      <td>2018-11-01</td>\n",
              "      <td>Rita Revista Indexada de Textos Academicos</td>\n",
              "      <td>True</td>\n",
              "      <td>0.0</td>\n",
              "      <td>Article</td>\n",
              "      <td>2</td>\n",
              "    </tr>\n",
              "    <tr>\n",
              "      <th>35962</th>\n",
              "      <td>8.0</td>\n",
              "      <td>[57195305282, 57195310042]</td>\n",
              "      <td>Ernesto N. Rogers and the preesistenza ambient...</td>\n",
              "      <td>85026897732</td>\n",
              "      <td>2015-04-01</td>\n",
              "      <td>Rita Revista Indexada de Textos Academicos</td>\n",
              "      <td>True</td>\n",
              "      <td>0.0</td>\n",
              "      <td>Article</td>\n",
              "      <td>2</td>\n",
              "    </tr>\n",
              "    <tr>\n",
              "      <th>35963</th>\n",
              "      <td>6.0</td>\n",
              "      <td>[57195294323, 56452824600, 57195291602, 572015...</td>\n",
              "      <td>Milano, città d' arte: Urban residents prefere...</td>\n",
              "      <td>85026803380</td>\n",
              "      <td>2017-06-29</td>\n",
              "      <td>2017 4th International Conference on eDemocrac...</td>\n",
              "      <td>False</td>\n",
              "      <td>0.0</td>\n",
              "      <td>Conference Paper</td>\n",
              "      <td>4</td>\n",
              "    </tr>\n",
              "  </tbody>\n",
              "</table>\n",
              "<p>29178 rows × 10 columns</p>\n",
              "</div>"
            ],
            "text/plain": [
              "       pages                                            authors  \\\n",
              "0       15.0  [57204955584, 57200520067, 24922369500, 244382...   \n",
              "1        8.0  [7005227142, 57200519327, 57200511770, 2443825...   \n",
              "2        8.0  [57200511770, 57200519327, 56249124100, 244382...   \n",
              "3        5.0  [57195619519, 57204116610, 24438258500, 700522...   \n",
              "4        6.0  [57200519327, 57200511770, 24438258500, 562491...   \n",
              "...      ...                                                ...   \n",
              "35958   21.0            [16319177900, 25638973000, 57195326886]   \n",
              "35960   13.0  [57195323836, 57195323776, 57195321188, 571900...   \n",
              "35961   10.0                         [57206889833, 57195310042]   \n",
              "35962    8.0                         [57195305282, 57195310042]   \n",
              "35963    6.0  [57195294323, 56452824600, 57195291602, 572015...   \n",
              "\n",
              "                                                   title  document_id  \\\n",
              "0      High-Efficiency High-Bandwidth Four-Quadrant F...  85058136304   \n",
              "1      Energy-Buffered Single-Phase Inverter Operatin...  85060314395   \n",
              "2      ZVS transitions in Multi-Mode Single Stage Inv...  85060302761   \n",
              "3      Equivalent Parameters of Round and Litz Wire C...  85060302746   \n",
              "4      Digital Variable Frequency Control of a Single...  85060299891   \n",
              "...                                                  ...          ...   \n",
              "35958  Micro-manufacturing technologies for biodevice...  85027116848   \n",
              "35960  Predictive value of serum infliximab levels at...  85027118255   \n",
              "35961  The [textile] materiality of jorn utzon's encl...  85062100903   \n",
              "35962  Ernesto N. Rogers and the preesistenza ambient...  85026897732   \n",
              "35963  Milano, città d' arte: Urban residents prefere...  85026803380   \n",
              "\n",
              "            date                                            journal  \\\n",
              "0     2019-06-01  IEEE Journal of Emerging and Selected Topics i...   \n",
              "1     2018-12-03  2018 IEEE Energy Conversion Congress and Expos...   \n",
              "2     2018-12-03  2018 IEEE Energy Conversion Congress and Expos...   \n",
              "3     2018-12-03  2018 IEEE Energy Conversion Congress and Expos...   \n",
              "4     2018-12-03  2018 IEEE Energy Conversion Congress and Expos...   \n",
              "...          ...                                                ...   \n",
              "35958 2013-01-01  Handbook on Advanced Design and Manufacturing ...   \n",
              "35960 2017-06-01                          Open Rheumatology Journal   \n",
              "35961 2018-11-01         Rita Revista Indexada de Textos Academicos   \n",
              "35962 2015-04-01         Rita Revista Indexada de Textos Academicos   \n",
              "35963 2017-06-29  2017 4th International Conference on eDemocrac...   \n",
              "\n",
              "       openaccess  cited_count              type  nauthors  \n",
              "0           False          0.0           Article         8  \n",
              "1           False          2.0  Conference Paper         5  \n",
              "2           False          1.0  Conference Paper         5  \n",
              "3           False          0.0  Conference Paper         5  \n",
              "4           False          1.0  Conference Paper         5  \n",
              "...           ...          ...               ...       ...  \n",
              "35958       False          1.0           Chapter         3  \n",
              "35960        True          3.0           Article        15  \n",
              "35961        True          0.0           Article         2  \n",
              "35962        True          0.0           Article         2  \n",
              "35963       False          0.0  Conference Paper         4  \n",
              "\n",
              "[29178 rows x 10 columns]"
            ]
          },
          "execution_count": 31,
          "metadata": {},
          "output_type": "execute_result"
        }
      ],
      "source": [
        "# How many authors have each publication?\n",
        "publications[\"nauthors\"] = publications.authors.apply(len)\n",
        "publications"
      ]
    },
    {
      "cell_type": "code",
      "execution_count": null,
      "metadata": {
        "id": "h5ApsPtCMLd2",
        "outputId": "58b09320-6203-45aa-c76a-e12dfc0b94ab"
      },
      "outputs": [
        {
          "data": {
            "text/plain": [
              "4.916272534101035"
            ]
          },
          "execution_count": 32,
          "metadata": {},
          "output_type": "execute_result"
        }
      ],
      "source": [
        "# What is the average number of authors in a publication?\n",
        "publications.nauthors.mean()"
      ]
    },
    {
      "cell_type": "code",
      "execution_count": null,
      "metadata": {
        "id": "cGKXAxN6MLd3",
        "outputId": "25a7955a-d0d9-4517-f09a-e49519ef9b35"
      },
      "outputs": [
        {
          "data": {
            "text/plain": [
              "type\n",
              "Article             11.217449\n",
              "Article in Press    15.250000\n",
              "Book                20.294118\n",
              "Chapter             19.793478\n",
              "Conference Paper     7.543836\n",
              "Editorial            3.204301\n",
              "Erratum              2.333333\n",
              "Letter               3.765957\n",
              "Note                 5.863636\n",
              "Review              14.623704\n",
              "Short Survey         5.285714\n",
              "Name: pages, dtype: float64"
            ]
          },
          "execution_count": 33,
          "metadata": {},
          "output_type": "execute_result"
        }
      ],
      "source": [
        "# What is the average number of pages in a publication depending of the publication type?\n",
        "publications.groupby(\"type\")[\"pages\"].mean()"
      ]
    },
    {
      "cell_type": "code",
      "execution_count": null,
      "metadata": {
        "id": "yW1bQgKeMLd3",
        "outputId": "df5fa0df-5262-4ec4-9865-080b7774c05d"
      },
      "outputs": [
        {
          "data": {
            "text/plain": [
              "type\n",
              "Article             18.254224\n",
              "Article in Press     1.333333\n",
              "Book                 3.000000\n",
              "Chapter              3.006211\n",
              "Conference Paper     5.205966\n",
              "Editorial            3.526882\n",
              "Erratum              1.666667\n",
              "Letter              12.808511\n",
              "Note                 5.590909\n",
              "Review              37.927407\n",
              "Short Survey        14.821429\n",
              "Name: cited_count, dtype: float64"
            ]
          },
          "execution_count": 34,
          "metadata": {},
          "output_type": "execute_result"
        }
      ],
      "source": [
        "# What is the average number of citations in a publication depending of the publication type?\n",
        "publications.groupby(\"type\")[\"cited_count\"].mean()"
      ]
    },
    {
      "cell_type": "code",
      "execution_count": null,
      "metadata": {
        "id": "IA0FHAsgMLd3",
        "outputId": "55b446ca-08bc-4a3d-bcf6-921b3e10a0fd"
      },
      "outputs": [
        {
          "data": {
            "text/html": [
              "<div>\n",
              "<style scoped>\n",
              "    .dataframe tbody tr th:only-of-type {\n",
              "        vertical-align: middle;\n",
              "    }\n",
              "\n",
              "    .dataframe tbody tr th {\n",
              "        vertical-align: top;\n",
              "    }\n",
              "\n",
              "    .dataframe thead th {\n",
              "        text-align: right;\n",
              "    }\n",
              "</style>\n",
              "<table border=\"1\" class=\"dataframe\">\n",
              "  <thead>\n",
              "    <tr style=\"text-align: right;\">\n",
              "      <th></th>\n",
              "      <th>auth_id</th>\n",
              "      <th>name</th>\n",
              "      <th>last_name</th>\n",
              "      <th>citations</th>\n",
              "      <th>cited_by</th>\n",
              "      <th>publications</th>\n",
              "      <th>orcid</th>\n",
              "      <th>active_years</th>\n",
              "    </tr>\n",
              "  </thead>\n",
              "  <tbody>\n",
              "    <tr>\n",
              "      <th>0</th>\n",
              "      <td>7005227142</td>\n",
              "      <td>José Antonio</td>\n",
              "      <td>Cobos</td>\n",
              "      <td>5267.0</td>\n",
              "      <td>3940.0</td>\n",
              "      <td>343.0</td>\n",
              "      <td>None</td>\n",
              "      <td>27.684932</td>\n",
              "    </tr>\n",
              "    <tr>\n",
              "      <th>1</th>\n",
              "      <td>55708653400</td>\n",
              "      <td>Javier</td>\n",
              "      <td>LLorca</td>\n",
              "      <td>9830.0</td>\n",
              "      <td>6350.0</td>\n",
              "      <td>301.0</td>\n",
              "      <td>None</td>\n",
              "      <td>32.389041</td>\n",
              "    </tr>\n",
              "    <tr>\n",
              "      <th>2</th>\n",
              "      <td>7007057622</td>\n",
              "      <td>Manuel</td>\n",
              "      <td>Elices</td>\n",
              "      <td>8251.0</td>\n",
              "      <td>4563.0</td>\n",
              "      <td>285.0</td>\n",
              "      <td>None</td>\n",
              "      <td>42.775342</td>\n",
              "    </tr>\n",
              "    <tr>\n",
              "      <th>3</th>\n",
              "      <td>6701646524</td>\n",
              "      <td>Marcela G.</td>\n",
              "      <td>González-Gross</td>\n",
              "      <td>7167.0</td>\n",
              "      <td>5244.0</td>\n",
              "      <td>280.0</td>\n",
              "      <td>None</td>\n",
              "      <td>28.553425</td>\n",
              "    </tr>\n",
              "    <tr>\n",
              "      <th>4</th>\n",
              "      <td>8899577600</td>\n",
              "      <td>Javier</td>\n",
              "      <td>Bajo</td>\n",
              "      <td>2213.0</td>\n",
              "      <td>1376.0</td>\n",
              "      <td>271.0</td>\n",
              "      <td>0000-0003-0824-4133</td>\n",
              "      <td>13.556164</td>\n",
              "    </tr>\n",
              "    <tr>\n",
              "      <th>...</th>\n",
              "      <td>...</td>\n",
              "      <td>...</td>\n",
              "      <td>...</td>\n",
              "      <td>...</td>\n",
              "      <td>...</td>\n",
              "      <td>...</td>\n",
              "      <td>...</td>\n",
              "      <td>...</td>\n",
              "    </tr>\n",
              "    <tr>\n",
              "      <th>5375</th>\n",
              "      <td>56619838600</td>\n",
              "      <td>G.</td>\n",
              "      <td>Ignacio</td>\n",
              "      <td>0.0</td>\n",
              "      <td>0.0</td>\n",
              "      <td>1.0</td>\n",
              "      <td>None</td>\n",
              "      <td>0.000000</td>\n",
              "    </tr>\n",
              "    <tr>\n",
              "      <th>5376</th>\n",
              "      <td>57201215949</td>\n",
              "      <td>A.</td>\n",
              "      <td>Toribio</td>\n",
              "      <td>8.0</td>\n",
              "      <td>8.0</td>\n",
              "      <td>1.0</td>\n",
              "      <td>None</td>\n",
              "      <td>0.000000</td>\n",
              "    </tr>\n",
              "    <tr>\n",
              "      <th>5377</th>\n",
              "      <td>57190576447</td>\n",
              "      <td>Noemi García</td>\n",
              "      <td>Arjona</td>\n",
              "      <td>1.0</td>\n",
              "      <td>1.0</td>\n",
              "      <td>1.0</td>\n",
              "      <td>None</td>\n",
              "      <td>0.000000</td>\n",
              "    </tr>\n",
              "    <tr>\n",
              "      <th>5378</th>\n",
              "      <td>57202283310</td>\n",
              "      <td>Victor</td>\n",
              "      <td>Aparicio Mequiades</td>\n",
              "      <td>1.0</td>\n",
              "      <td>1.0</td>\n",
              "      <td>1.0</td>\n",
              "      <td>None</td>\n",
              "      <td>0.000000</td>\n",
              "    </tr>\n",
              "    <tr>\n",
              "      <th>5379</th>\n",
              "      <td>38061551300</td>\n",
              "      <td>Juan</td>\n",
              "      <td>Mateos</td>\n",
              "      <td>17.0</td>\n",
              "      <td>17.0</td>\n",
              "      <td>2.0</td>\n",
              "      <td>None</td>\n",
              "      <td>0.000000</td>\n",
              "    </tr>\n",
              "  </tbody>\n",
              "</table>\n",
              "<p>5380 rows × 8 columns</p>\n",
              "</div>"
            ],
            "text/plain": [
              "          auth_id          name           last_name  citations  cited_by  \\\n",
              "0      7005227142  José Antonio               Cobos     5267.0    3940.0   \n",
              "1     55708653400        Javier              LLorca     9830.0    6350.0   \n",
              "2      7007057622        Manuel              Elices     8251.0    4563.0   \n",
              "3      6701646524    Marcela G.      González-Gross     7167.0    5244.0   \n",
              "4      8899577600        Javier                Bajo     2213.0    1376.0   \n",
              "...           ...           ...                 ...        ...       ...   \n",
              "5375  56619838600            G.             Ignacio        0.0       0.0   \n",
              "5376  57201215949            A.             Toribio        8.0       8.0   \n",
              "5377  57190576447  Noemi García              Arjona        1.0       1.0   \n",
              "5378  57202283310        Victor  Aparicio Mequiades        1.0       1.0   \n",
              "5379  38061551300          Juan              Mateos       17.0      17.0   \n",
              "\n",
              "      publications                orcid  active_years  \n",
              "0            343.0                 None     27.684932  \n",
              "1            301.0                 None     32.389041  \n",
              "2            285.0                 None     42.775342  \n",
              "3            280.0                 None     28.553425  \n",
              "4            271.0  0000-0003-0824-4133     13.556164  \n",
              "...            ...                  ...           ...  \n",
              "5375           1.0                 None      0.000000  \n",
              "5376           1.0                 None      0.000000  \n",
              "5377           1.0                 None      0.000000  \n",
              "5378           1.0                 None      0.000000  \n",
              "5379           2.0                 None      0.000000  \n",
              "\n",
              "[5380 rows x 8 columns]"
            ]
          },
          "execution_count": 35,
          "metadata": {},
          "output_type": "execute_result"
        }
      ],
      "source": [
        "# How many years each researcher have been active? (difference between the publicationDate of the oldest and newest publications)\n",
        "max_date = data.groupby(\"auth_id\")[\"date\"].max()\n",
        "min_date = data.groupby(\"auth_id\")[\"date\"].min()\n",
        "active = ((max_date-min_date).dt.total_seconds()/(3600*24*365)).reset_index().rename(columns={\"date\":\"active_years\"})\n",
        "researchers = researchers.merge(active)\n",
        "researchers"
      ]
    },
    {
      "cell_type": "code",
      "execution_count": null,
      "metadata": {
        "id": "dWxC7i5wMLd3",
        "outputId": "6b63f281-d451-44fe-b944-87d3202ba657"
      },
      "outputs": [
        {
          "data": {
            "text/plain": [
              "<matplotlib.axes._subplots.AxesSubplot at 0x1db13e2a220>"
            ]
          },
          "execution_count": 36,
          "metadata": {},
          "output_type": "execute_result"
        },
        {
          "data": {
            "image/png": "[encoded data removed]",
            "text/plain": [
              "<Figure size 1152x288 with 1 Axes>"
            ]
          },
          "metadata": {
            "needs_background": "light"
          },
          "output_type": "display_data"
        }
      ],
      "source": [
        "# Histogram of the number of researchers by the number of active years\n",
        "fig, ax = plt.subplots(figsize=(16,4))\n",
        "sns.histplot(data=researchers, x=\"active_years\", ax=ax)"
      ]
    },
    {
      "cell_type": "code",
      "execution_count": null,
      "metadata": {
        "id": "r9GfxJ_MMLd4",
        "outputId": "282b0c21-beb8-4e1d-ff6a-28dc92a63ea9"
      },
      "outputs": [
        {
          "data": {
            "text/plain": [
              "<matplotlib.axes._subplots.AxesSubplot at 0x1db1456bc40>"
            ]
          },
          "execution_count": 37,
          "metadata": {},
          "output_type": "execute_result"
        },
        {
          "data": {
            "image/png": "[encoded data removed]",
            "text/plain": [
              "<Figure size 1152x288 with 1 Axes>"
            ]
          },
          "metadata": {
            "needs_background": "light"
          },
          "output_type": "display_data"
        }
      ],
      "source": [
        "# Histogram of the number of authors in a publication\n",
        "fig, ax = plt.subplots(figsize=(16,4))\n",
        "sns.histplot(data=publications, x=publications.authors.apply(len), bins=100, ax=ax)"
      ]
    },
    {
      "cell_type": "code",
      "execution_count": null,
      "metadata": {
        "id": "RQap3x6MMLd4",
        "outputId": "c4d60261-ad94-4b25-c9fa-361400e2d899"
      },
      "outputs": [
        {
          "data": {
            "text/plain": [
              "<matplotlib.axes._subplots.AxesSubplot at 0x1db145ff310>"
            ]
          },
          "execution_count": 38,
          "metadata": {},
          "output_type": "execute_result"
        },
        {
          "data": {
            "image/png": "[encoded data removed]",
            "text/plain": [
              "<Figure size 576x576 with 1 Axes>"
            ]
          },
          "metadata": {
            "needs_background": "light"
          },
          "output_type": "display_data"
        }
      ],
      "source": [
        "# Scatter plot of the publication year vs the number of citations\n",
        "fig, ax = plt.subplots(figsize=(8,8))\n",
        "year_citations = publications.groupby(publications.date.dt.year)[\"cited_count\"].sum().reset_index()\n",
        "sns.scatterplot(data=year_citations, x=\"date\", y=\"cited_count\")"
      ]
    },
    {
      "cell_type": "code",
      "execution_count": null,
      "metadata": {
        "id": "4OKeKzSoMLd4",
        "outputId": "04a51ae1-d017-4317-90e3-7ce70fcd6d1d"
      },
      "outputs": [
        {
          "data": {
            "text/plain": [
              "<BarContainer object of 11 artists>"
            ]
          },
          "execution_count": 39,
          "metadata": {},
          "output_type": "execute_result"
        },
        {
          "data": {
            "image/png": "[encoded data removed]",
            "text/plain": [
              "<Figure size 1152x288 with 1 Axes>"
            ]
          },
          "metadata": {
            "needs_background": "light"
          },
          "output_type": "display_data"
        }
      ],
      "source": [
        "# Chart of the average number of citations depending on the publication type\n",
        "fig, ax = plt.subplots(figsize=(16,4))\n",
        "type_citations = publications.groupby(\"type\")[\"cited_count\"].mean().reset_index()\n",
        "ax.bar(type_citations.type, type_citations.cited_count)"
      ]
    },
    {
      "cell_type": "code",
      "execution_count": null,
      "metadata": {
        "id": "ixkP9bPlMLd5",
        "outputId": "5d31c29d-7aa2-4d36-c1ff-0e4e83a01055"
      },
      "outputs": [
        {
          "data": {
            "text/plain": [
              "<matplotlib.axes._subplots.AxesSubplot at 0x1db14671f10>"
            ]
          },
          "execution_count": 40,
          "metadata": {},
          "output_type": "execute_result"
        },
        {
          "data": {
            "image/png": "[encoded data removed]",
            "text/plain": [
              "<Figure size 1152x288 with 1 Axes>"
            ]
          },
          "metadata": {
            "needs_background": "light"
          },
          "output_type": "display_data"
        }
      ],
      "source": [
        "# Chart of the average number of pages depending on the publication type\n",
        "fig, ax = plt.subplots(figsize=(16,4))\n",
        "type_pages = publications.groupby(\"type\")[\"pages\"].mean().reset_index()\n",
        "sns.barplot(data=type_pages, x=\"type\", y=\"pages\", ax=ax)"
      ]
    },
    {
      "cell_type": "markdown",
      "metadata": {
        "id": "eexuWPs9MLd5"
      },
      "source": [
        "## Advanced results\n",
        "\n",
        "* Title Analysis\n",
        "    * What are the most repeated words in the publication titles?\n",
        "    * Plot the distribution of the number of words in the titles\n",
        "\n",
        "* Coauthor: \n",
        "    One researcher is coatuhor with other if both appears as author in at least one publication. \n",
        "    * What is the average number of different coauthors of each researcher?\n",
        "    * How is the most frequent coauthor (their id) of each researcher?\n",
        "\n",
        "\n",
        "* H-index: \n",
        "    The h-index (https://en.wikipedia.org/wiki/H-index) is a metric that tries to describe the impact of a researcher based on the number of citations received in each publication. A researcher has a h-index of `n` if she has at least `n` publications with `n` or more citations.\n",
        "\n",
        "    * What is the h-index of each researcher?\n",
        "    * Chart of the publications and number of citations of a certain researcher, highlinting (in a different color) which publications contributed to the h-index\n",
        "\n",
        "![alt text](img/h-index.svg \"H-Index\")\n"
      ]
    },
    {
      "cell_type": "code",
      "execution_count": null,
      "metadata": {
        "id": "9HxrgSGYMLd5",
        "outputId": "a64d855d-44a0-4e3d-a0ec-adb4b7a9e064"
      },
      "outputs": [
        {
          "name": "stdout",
          "output_type": "stream",
          "text": [
            "of              21076\n",
            "and             11217\n",
            "in              10881\n",
            "the              9917\n",
            "for              8033\n",
            "a                4680\n",
            "on               3844\n",
            "to               3642\n",
            "A                3474\n",
            "with             2812\n",
            "by               1876\n",
            "using            1597\n",
            "The              1569\n",
            "analysis         1317\n",
            "from             1280\n",
            "based            1209\n",
            "system           1142\n",
            "model            1022\n",
            "an               1010\n",
            "systems           993\n",
            "study             992\n",
            "An                932\n",
            "approach          707\n",
            "at                677\n",
            "as                656\n",
            "design            631\n",
            "control           625\n",
            "data              590\n",
            "method            575\n",
            "properties        525\n",
            "new               502\n",
            "networks          492\n",
            "models            472\n",
            "power             465\n",
            "Analysis          463\n",
            "On                462\n",
            "performance       458\n",
            "management        449\n",
            "between           445\n",
            "under             441\n",
            "energy            430\n",
            "Spain             425\n",
            "applications      420\n",
            "through           409\n",
            "high              407\n",
            "case              406\n",
            "Influence         402\n",
            "quality           375\n",
            "assessment        373\n",
            "during            368\n",
            "Name: title, dtype: int64\n"
          ]
        },
        {
          "data": {
            "text/plain": [
              "<matplotlib.axes._subplots.AxesSubplot at 0x1db1996cee0>"
            ]
          },
          "execution_count": 41,
          "metadata": {},
          "output_type": "execute_result"
        },
        {
          "data": {
            "image/png": "[encoded data removed]",
            "text/plain": [
              "<Figure size 1152x288 with 1 Axes>"
            ]
          },
          "metadata": {
            "needs_background": "light"
          },
          "output_type": "display_data"
        }
      ],
      "source": [
        "# Title Analysis\n",
        "print(publications.title.apply(lambda x: x.split(\" \")).explode().value_counts().iloc[:50])\n",
        "\n",
        "fig, ax = plt.subplots(figsize=(16,4))\n",
        "sns.histplot(data=publications, x=publications.title.apply(lambda x: len(x.split(\" \"))), ax=ax)"
      ]
    },
    {
      "cell_type": "code",
      "execution_count": null,
      "metadata": {
        "id": "DquYb7D1MLd6",
        "outputId": "63972bf2-8360-4e0c-bf02-9171f5023462"
      },
      "outputs": [
        {
          "data": {
            "text/plain": [
              "0        15\n",
              "1        11\n",
              "2         7\n",
              "3        23\n",
              "4        13\n",
              "         ..\n",
              "35958     9\n",
              "35960    13\n",
              "35961     7\n",
              "35962    14\n",
              "35963    10\n",
              "Name: title, Length: 29178, dtype: int64"
            ]
          },
          "execution_count": 42,
          "metadata": {},
          "output_type": "execute_result"
        }
      ],
      "source": [
        "publications.title.apply(lambda x: len(x.split(\" \"))).explode()"
      ]
    },
    {
      "cell_type": "code",
      "execution_count": null,
      "metadata": {
        "id": "w-LqlK4HMLd6",
        "outputId": "eb2f41db-9112-4697-b5f2-7b0952bf8ee0"
      },
      "outputs": [
        {
          "data": {
            "text/plain": [
              "auth_id\n",
              "6503848928     4\n",
              "6503890565     5\n",
              "6503896634     7\n",
              "6503903714     3\n",
              "6503939551     4\n",
              "              ..\n",
              "57208597828    4\n",
              "57208599115    5\n",
              "57208639475    6\n",
              "57208670663    4\n",
              "57208701829    3\n",
              "Name: authors, Length: 5380, dtype: int64"
            ]
          },
          "execution_count": 43,
          "metadata": {},
          "output_type": "execute_result"
        }
      ],
      "source": [
        "# Coauthor\n",
        "publications[\"authors2\"] = publications.authors\n",
        "data2 = researchers.merge(publications.rename(columns={\"authors2\":\"auth_id\"}).explode(\"auth_id\"), on=\"auth_id\")\n",
        "def coauthorCount(x):\n",
        "    coauths = {}\n",
        "    for i in x:\n",
        "        if i in coauths:\n",
        "            coauths[i] += 1\n",
        "        else:\n",
        "            coauths[i] = 0\n",
        "    return coauths\n",
        "\n",
        "data2.groupby(\"auth_id\")[\"authors\"].sum().apply(lambda x: len(coauthorCount(x))-1)"
      ]
    },
    {
      "cell_type": "code",
      "execution_count": null,
      "metadata": {
        "id": "3BvrnCIlMLd6",
        "outputId": "e9669799-52d0-4c7a-ac43-6da2c62f14ab"
      },
      "outputs": [
        {
          "data": {
            "text/plain": [
              "auth_id\n",
              "6503848928      6507041750\n",
              "6503890565      8669447500\n",
              "6503896634      7004870821\n",
              "6503903714      6602840811\n",
              "6503939551      7202945116\n",
              "                  ...     \n",
              "57208597828    55883782400\n",
              "57208599115    57207736939\n",
              "57208639475    23107265900\n",
              "57208670663    55994487100\n",
              "57208701829    57195692330\n",
              "Name: authors, Length: 5380, dtype: int64"
            ]
          },
          "execution_count": 44,
          "metadata": {},
          "output_type": "execute_result"
        }
      ],
      "source": [
        "# What is the most frequent coauthor (their id) of each researcher?\n",
        "def getMax(x):\n",
        "    key = \"\"\n",
        "    value = -1\n",
        "    for i in x:\n",
        "        if x[i] > value:\n",
        "            value = x[i]\n",
        "            key = i\n",
        "    return i\n",
        "data2.groupby(\"auth_id\")[\"authors\"].sum().apply(lambda x: getMax(coauthorCount(x)))"
      ]
    },
    {
      "cell_type": "code",
      "execution_count": null,
      "metadata": {
        "id": "j8w3y9_OMLd6",
        "outputId": "cd259d25-6e47-4238-ec68-4a738a61fc3a"
      },
      "outputs": [
        {
          "data": {
            "text/plain": [
              "auth_id\n",
              "6503848928     0\n",
              "6503890565     1\n",
              "6503896634     5\n",
              "6503903714     1\n",
              "6503939551     1\n",
              "              ..\n",
              "57208597828    0\n",
              "57208599115    0\n",
              "57208639475    0\n",
              "57208670663    0\n",
              "57208701829    0\n",
              "Name: cited_count, Length: 5380, dtype: int64"
            ]
          },
          "execution_count": 45,
          "metadata": {},
          "output_type": "execute_result"
        }
      ],
      "source": [
        "# H-index\n",
        "def hindex(x):\n",
        "    x.sort()\n",
        "    for i in range(len(x),0,-1):\n",
        "        if x[len(x)-i] >= i:\n",
        "            return i\n",
        "    return 0        \n",
        "data.groupby(\"auth_id\")[\"cited_count\"].apply(lambda x: hindex(list(x)))"
      ]
    },
    {
      "cell_type": "code",
      "execution_count": null,
      "metadata": {
        "id": "E5MD4PQ1MLd7",
        "outputId": "a7dc671b-e078-432a-ca90-423e031bb57b"
      },
      "outputs": [
        {
          "data": {
            "image/png": "[encoded data removed]",
            "text/plain": [
              "<Figure size 1080x360 with 1 Axes>"
            ]
          },
          "metadata": {
            "needs_background": "light"
          },
          "output_type": "display_data"
        }
      ],
      "source": [
        "# Chart of the publications and number of citations of a certain researcher\n",
        "researcher_id = 24521864600\n",
        "citations = data[data[\"auth_id\"]==researcher_id][\"cited_count\"].sort_values(ascending=False).values\n",
        "h = hindex(list(citations))\n",
        "\n",
        "fig, ax = plt.subplots(figsize=(15,5))\n",
        "ax.bar(range(len(citations[citations>=h])),citations[citations>=h],color=\"green\")\n",
        "ax.bar(range(len(citations[citations>=h]), len(citations)),citations[citations<h],color=\"red\")\n",
        "plt.show(fig)"
      ]
    }
  ],
  "metadata": {
    "kernelspec": {
      "display_name": "Python 3",
      "language": "python",
      "name": "python3"
    },
    "language_info": {
      "codemirror_mode": {
        "name": "ipython",
        "version": 3
      },
      "file_extension": ".py",
      "mimetype": "text/x-python",
      "name": "python",
      "nbconvert_exporter": "python",
      "pygments_lexer": "ipython3",
      "version": "3.8.3"
    },
    "colab": {
      "name": "Data exploration and visualization-sol.ipynb",
      "provenance": [],
      "include_colab_link": true
    }
  },
  "nbformat": 4,
  "nbformat_minor": 0
}
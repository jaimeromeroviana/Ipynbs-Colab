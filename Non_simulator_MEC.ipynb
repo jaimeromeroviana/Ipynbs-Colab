{
  "nbformat": 4,
  "nbformat_minor": 0,
  "metadata": {
    "colab": {
      "name": "Non_simulator_MEC.ipynb",
      "provenance": [],
      "collapsed_sections": [],
      "include_colab_link": true
    },
    "kernelspec": {
      "name": "python3",
      "display_name": "Python 3"
    }
  },
  "cells": [
    {
      "cell_type": "markdown",
      "metadata": {
        "id": "view-in-github",
        "colab_type": "text"
      },
      "source": [
        "<a href=\"https://colab.research.google.com/github/jaimeromeroviana/Ipynbs-Colab/blob/main/Non_simulator_MEC.ipynb\" target=\"_parent\"><img src=\"https://colab.research.google.com/assets/colab-badge.svg\" alt=\"Open In Colab\"/></a>"
      ]
    },
    {
      "cell_type": "markdown",
      "metadata": {
        "id": "1twROugURgV-"
      },
      "source": [
        "![texto alternativo](https://drive.google.com/uc?id=1sixQEBXqJm3-sKWbkECgt9yCkuolAd7T)\n",
        "\n"
      ]
    },
    {
      "cell_type": "code",
      "metadata": {
        "id": "23ejDVor4gkk",
        "outputId": "fa3d1cf9-bece-4b8c-9873-51bc8838a7a7",
        "colab": {
          "base_uri": "https://localhost:8080/",
          "height": 503
        }
      },
      "source": [
        "import keras\n",
        "from tensorflow.python.keras import Sequential\n",
        "from tensorflow.python.keras.layers import LSTM, Dense, Flatten\n",
        "import numpy as np\n",
        "\n",
        "POSITIVE_REWARD = 1\n",
        "NEGATIVE_REWARD = -1\n",
        "\n",
        "#Neural Network\n",
        "model = Sequential()\n",
        "model.add(LSTM(10, return_sequences=False, input_shape=(1,2)))\n",
        "model.add(Dense(10, activation = 'relu'))\n",
        "model.add(Dense(2))\n",
        "model.compile(loss='mean_squared_error', optimizer='adam')\n",
        "model.summary()\n",
        "\n",
        "#Target Network\n",
        "target_model = Sequential()\n",
        "target_model.add(LSTM(10, return_sequences=False,input_shape=(1,2)))\n",
        "target_model.add(Dense(10, activation = 'relu'))\n",
        "target_model.add(Dense(2))\n",
        "target_model.compile(loss='mean_squared_error', optimizer='adam')\n",
        "target_model.summary()\n",
        "target_model.set_weights(model.get_weights())\n",
        "'''\n",
        "batch = np.array([3,4])\n",
        "np_batch = np.reshape(batch, (1,1,batch.shape[0]))\n",
        "print(\"batch shape\",np.shape(np_batch))\n",
        "print(batch)\n",
        "q_list = model.predict(np_batch) \n",
        "print(q_list)\n",
        "'''\n",
        "# message=1-->avisa message=0-->no avisa\n",
        "def step( time, message): # time and message as argument\n",
        "  real_time = 13 # 13:00 \n",
        "  reward = 0\n",
        "  if time == real_time and message == 1:\n",
        "    reward = POSITIVE_REWARD\n",
        "    print(\"PREMIO\")\n",
        "  elif time == real_time and message == 0:\n",
        "    reward = NEGATIVE_REWARD\n",
        "    print(\"CASTIGO\")\n",
        "  elif time != real_time and message == 0:\n",
        "    reward = NEGATIVE_REWARD\n",
        "    print(\"CASTIGO\")\n",
        "  elif time != real_time and message == 1:\n",
        "    reward = NEGATIVE_REWARD\n",
        "    print(\"CASTIGO\")\n",
        "  return reward\n",
        "\n",
        "     "
      ],
      "execution_count": null,
      "outputs": [
        {
          "output_type": "stream",
          "text": [
            "Model: \"sequential_51\"\n",
            "_________________________________________________________________\n",
            "Layer (type)                 Output Shape              Param #   \n",
            "=================================================================\n",
            "lstm_49 (LSTM)               (None, 10)                520       \n",
            "_________________________________________________________________\n",
            "dense_88 (Dense)             (None, 10)                110       \n",
            "_________________________________________________________________\n",
            "dense_89 (Dense)             (None, 2)                 22        \n",
            "=================================================================\n",
            "Total params: 652\n",
            "Trainable params: 652\n",
            "Non-trainable params: 0\n",
            "_________________________________________________________________\n",
            "Model: \"sequential_52\"\n",
            "_________________________________________________________________\n",
            "Layer (type)                 Output Shape              Param #   \n",
            "=================================================================\n",
            "lstm_50 (LSTM)               (None, 10)                520       \n",
            "_________________________________________________________________\n",
            "dense_90 (Dense)             (None, 10)                110       \n",
            "_________________________________________________________________\n",
            "dense_91 (Dense)             (None, 2)                 22        \n",
            "=================================================================\n",
            "Total params: 652\n",
            "Trainable params: 652\n",
            "Non-trainable params: 0\n",
            "_________________________________________________________________\n"
          ],
          "name": "stdout"
        }
      ]
    },
    {
      "cell_type": "code",
      "metadata": {
        "id": "v4EQc4H08R8s",
        "outputId": "d0549907-05c7-4f13-96eb-a0827f55fe1c",
        "colab": {
          "base_uri": "https://localhost:8080/",
          "height": 35
        }
      },
      "source": [
        "import numpy as np\n",
        "print(np.random.randint(0,2))"
      ],
      "execution_count": null,
      "outputs": [
        {
          "output_type": "stream",
          "text": [
            "0\n"
          ],
          "name": "stdout"
        }
      ]
    },
    {
      "cell_type": "code",
      "metadata": {
        "id": "eP-yWEGf_ihx"
      },
      "source": [
        "dias = 7\n",
        "minutos = 1440\n",
        "DISCOUNT = 0.99\n",
        "x = 0\n",
        "y = 0\n",
        "batch_train = []\n",
        "experience = []\n",
        "\n",
        "for i in range(dias):\n",
        "  day = i\n",
        "  print(\"dia \", day)\n",
        "      \n",
        "  for j in range(24):\n",
        "    hour=j\n",
        "    \"\"\"batch_predict=np.zeros((3,4))\n",
        "    if(j==775):\n",
        "      x= x+1\n",
        "      y = 2*x\n",
        "      batch_predict = np.array([[x], [y], [i], [j]])\n",
        "    elif(j>775 && j<785):\n",
        "      x= x+1\n",
        "      y = 2*x\n",
        "      batch_predict = np.insert(batch, [i], [[x],[y],[i],[j]], axis=1)\"\"\"\n",
        "\n",
        "    print(\"son las \", hour)\n",
        "    batch_predict = [day, hour]\n",
        "    np_batch_predict = np.array(batch_predict)\n",
        "    np_batch_predict = np.reshape(np_batch_predict, (1,1,batch.shape[0]))\n",
        "    q_list = model.predict(np_batch_predict) \n",
        "    message = np.argmax(q_list)\n",
        "    \n",
        "    reward = step(message, hour)\n",
        "    #newrow = [day,hour,message,reward,hour+1]\n",
        "    #batch_train = np.vstack([batch_train, newrow])\n",
        "    data = [day,hour]\n",
        "    future_data = [day, hour+1]\n",
        "    experience=[data,message,reward,future_data]\n",
        "    batch_train.append(experience)\n",
        "\n",
        "    if(hour%4==0):\n",
        "      state = [element[0] for element in batch_train]\n",
        "      future_state = [element[3] for element in batch_train]\n",
        "\n",
        "      # transform list to numpy array\n",
        "      np_state = np.array(state)\n",
        "      np_state = np.reshape(np_state,(np_state.shape[0],1,np_state.shape[1]))\n",
        "      print(\"npshape\",np.shape(np_state))\n",
        "      np_future_state = np.array(future_state)\n",
        "      print(np_future_state)\n",
        "      np_future_state = np.reshape(np_future_state,(np_future_state.shape[0],1,np_future_state.shape[1]))\n",
        "\n",
        "      qs_list = model.predict(np_state)\n",
        "      future_qs_list = target_model.predict(np_future_state)\n",
        "\n",
        "      X = []\n",
        "      Y = []\n",
        "\n",
        "\n",
        "      for index, (current_state, message, reward, future_state) in enumerate(batch_train):\n",
        "\n",
        "          \n",
        "          max_future_q = np.max(future_qs_list[index])\n",
        "          new_q = reward + DISCOUNT * max_future_q\n",
        "          print(\"new_q %d\", new_q)\n",
        "          \n",
        "          current_qs = qs_list[index]\n",
        "          current_qs[message] = new_q\n",
        "\n",
        "          #print(\"currento qs\",current_qs)\n",
        "          X.append(current_state)\n",
        "          np_X=np.array(X)\n",
        "          np_X=np.reshape(np_X,(np_X.shape[0],1,np_X.shape[1]))\n",
        "          #print(\"x shape\",np.shape(np_X))\n",
        "          Y.append(current_qs)\n",
        "          np_Y=np.array(Y)\n",
        "          #print(\"y shape\",np.shape(np_Y))\n",
        "\n",
        "      model.fit(np_X/24, np_Y, batch_size=12, epochs=10, verbose=1, shuffle=True)\n",
        "    \"\"\"train:\n",
        "    sample\n",
        "    pillas un array de estados del sample\n",
        "    haces un predict con esos estados, obteniendo los valores q de cada accion\n",
        "    repites con el estado futuro, obteniendo los valores q de cada accion futura (esto lo sacas de la target)\n",
        "    para cada sample coges el máximo q(accion tomada) y le sumas el reward\n",
        "    pillas el valor q de la mejor accion futura y se lo sumas al reward con un descuento\n",
        "    cambias el nuevo valor q en el array de valores q\n",
        "    fit con entrada la lista de estados y salida los valores q que acabas de calcular\n",
        "    \n",
        "    \n",
        "    Mejoras:\n",
        "\n",
        "\n",
        "    -Posiciones \n",
        "    -Tiempo de levantamiento\n",
        "    -Tiempo de servicio maximo levantado\n",
        "    -Tiempo de mensaje\n",
        "    -Usuarios diferentes\n",
        "    -Recompensa variable\n",
        "    -Wheather\n",
        "\"\"\"\n",
        "\n"
      ],
      "execution_count": null,
      "outputs": []
    },
    {
      "cell_type": "code",
      "metadata": {
        "id": "A80s9SKh6MtL",
        "outputId": "d51dbe79-bcfa-4bce-e416-1d6bccda1abe",
        "colab": {
          "base_uri": "https://localhost:8080/",
          "height": 238
        }
      },
      "source": [
        "import numpy as np\n",
        "x = 0\n",
        "y = 0\n",
        "trial=[[1,1] [1,1]]\n",
        "print(\"TRIAL\",trial)\n",
        "batch=np.zeros((3,4))\n",
        "batch_train=([[0],[0],[0],[0],[0]])\n",
        "print (batch)\n",
        "for i in range(5):\n",
        "  if(i==0):\n",
        "    x= x+1\n",
        "    y = 2*x\n",
        "    batch = np.array([x, y, i, 4])\n",
        "    print (batch)\n",
        "  else:\n",
        "    x= x+1\n",
        "    y = 2*x\n",
        "    newrow = [x,y,i,4]\n",
        "    batch = np.vstack([batch, newrow])\n",
        "    print(batch)"
      ],
      "execution_count": null,
      "outputs": [
        {
          "output_type": "error",
          "ename": "TypeError",
          "evalue": "ignored",
          "traceback": [
            "\u001b[0;31m---------------------------------------------------------------------------\u001b[0m",
            "\u001b[0;31mTypeError\u001b[0m                                 Traceback (most recent call last)",
            "\u001b[0;32m<ipython-input-16-0a830e29817c>\u001b[0m in \u001b[0;36m<module>\u001b[0;34m()\u001b[0m\n\u001b[1;32m      2\u001b[0m \u001b[0mx\u001b[0m \u001b[0;34m=\u001b[0m \u001b[0;36m0\u001b[0m\u001b[0;34m\u001b[0m\u001b[0;34m\u001b[0m\u001b[0m\n\u001b[1;32m      3\u001b[0m \u001b[0my\u001b[0m \u001b[0;34m=\u001b[0m \u001b[0;36m0\u001b[0m\u001b[0;34m\u001b[0m\u001b[0;34m\u001b[0m\u001b[0m\n\u001b[0;32m----> 4\u001b[0;31m \u001b[0mtrial\u001b[0m\u001b[0;34m=\u001b[0m\u001b[0;34m[\u001b[0m\u001b[0;34m[\u001b[0m\u001b[0;36m1\u001b[0m\u001b[0;34m,\u001b[0m\u001b[0;36m1\u001b[0m\u001b[0;34m]\u001b[0m \u001b[0;34m[\u001b[0m\u001b[0;36m1\u001b[0m\u001b[0;34m,\u001b[0m\u001b[0;36m1\u001b[0m\u001b[0;34m]\u001b[0m\u001b[0;34m]\u001b[0m\u001b[0;34m\u001b[0m\u001b[0;34m\u001b[0m\u001b[0m\n\u001b[0m\u001b[1;32m      5\u001b[0m \u001b[0mprint\u001b[0m\u001b[0;34m(\u001b[0m\u001b[0;34m\"TRIAL\"\u001b[0m\u001b[0;34m,\u001b[0m\u001b[0mtrial\u001b[0m\u001b[0;34m)\u001b[0m\u001b[0;34m\u001b[0m\u001b[0;34m\u001b[0m\u001b[0m\n\u001b[1;32m      6\u001b[0m \u001b[0mbatch\u001b[0m\u001b[0;34m=\u001b[0m\u001b[0mnp\u001b[0m\u001b[0;34m.\u001b[0m\u001b[0mzeros\u001b[0m\u001b[0;34m(\u001b[0m\u001b[0;34m(\u001b[0m\u001b[0;36m3\u001b[0m\u001b[0;34m,\u001b[0m\u001b[0;36m4\u001b[0m\u001b[0;34m)\u001b[0m\u001b[0;34m)\u001b[0m\u001b[0;34m\u001b[0m\u001b[0;34m\u001b[0m\u001b[0m\n",
            "\u001b[0;31mTypeError\u001b[0m: list indices must be integers or slices, not tuple"
          ]
        }
      ]
    }
  ]
}